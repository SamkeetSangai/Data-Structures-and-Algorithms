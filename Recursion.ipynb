{
 "cells": [
  {
   "cell_type": "code",
   "execution_count": 189,
   "id": "d9719895",
   "metadata": {},
   "outputs": [],
   "source": [
    "import sys\n",
    "# print(sys.getrecursionlimit())\n",
    "sys.setrecursionlimit(10000) "
   ]
  },
  {
   "cell_type": "markdown",
   "id": "e1cf6eea",
   "metadata": {},
   "source": [
    "# Factorial"
   ]
  },
  {
   "cell_type": "code",
   "execution_count": 190,
   "id": "b49362c7",
   "metadata": {},
   "outputs": [],
   "source": [
    "def factorial(num):\n",
    "    if num == 0:\n",
    "        return 1\n",
    "    return num*factorial(num-1)"
   ]
  },
  {
   "cell_type": "markdown",
   "id": "b7b3a1e7",
   "metadata": {},
   "source": [
    "# Sum of n natural numbers"
   ]
  },
  {
   "cell_type": "code",
   "execution_count": 191,
   "id": "6ae1d248",
   "metadata": {},
   "outputs": [],
   "source": [
    "def sum(num):\n",
    "    if num == 1:\n",
    "        return 1\n",
    "    return num + sum(num-1)"
   ]
  },
  {
   "cell_type": "markdown",
   "id": "67c4365e",
   "metadata": {},
   "source": [
    "# Power of a number"
   ]
  },
  {
   "cell_type": "code",
   "execution_count": 192,
   "id": "64232820",
   "metadata": {},
   "outputs": [],
   "source": [
    "def power(a,b):\n",
    "    if b == 0:\n",
    "        return 1\n",
    "    return a*power(a,b-1)"
   ]
  },
  {
   "cell_type": "markdown",
   "id": "178f6a7d",
   "metadata": {},
   "source": [
    "# Print first n natural numbers"
   ]
  },
  {
   "cell_type": "code",
   "execution_count": 193,
   "id": "65559fbe",
   "metadata": {},
   "outputs": [],
   "source": [
    "def print_1_to_n(num):\n",
    "    if num == 0:\n",
    "        return\n",
    "    print_1_to_n(num-1)\n",
    "    print(num)\n",
    "    return\n",
    "\n",
    "def print_n_to_1(num):\n",
    "    if num == 0:\n",
    "        return \n",
    "    print(num)\n",
    "    print_n_to_1(num-1)\n",
    "    return"
   ]
  },
  {
   "cell_type": "markdown",
   "id": "98b67252",
   "metadata": {},
   "source": [
    "# Fibonacci number"
   ]
  },
  {
   "cell_type": "code",
   "execution_count": 194,
   "id": "899a2899",
   "metadata": {},
   "outputs": [],
   "source": [
    "def fibb(n):\n",
    "    if n == 1 or n == 2:\n",
    "        return 1\n",
    "    fibb_n_1 = fibb(n-1)\n",
    "    fibb_n_2 = fibb(n-2)\n",
    "    return fibb_n_1 + fibb_n_2"
   ]
  },
  {
   "cell_type": "markdown",
   "id": "4e7fe772",
   "metadata": {},
   "source": [
    "# Check if list is sorted or not ?"
   ]
  },
  {
   "cell_type": "code",
   "execution_count": 195,
   "id": "08c7d225",
   "metadata": {},
   "outputs": [],
   "source": [
    "def isListSorted(lst):\n",
    "    if len(lst) <= 1:\n",
    "        return True\n",
    "    \n",
    "    if lst[0] > lst[1]:\n",
    "        return False\n",
    "    \n",
    "    smallerList = lst[1:]\n",
    "    isSmallerListSorted = isListSorted(smallerList)\n",
    "    \n",
    "    if isSmallerListSorted:\n",
    "        return True\n",
    "    else:\n",
    "        return False\n",
    "\n",
    "def isListSortedBetter(lst,si=0):\n",
    "    if si >= len(lst) - 1:\n",
    "        return True\n",
    "    \n",
    "    if lst[si] > lst[si+1]:\n",
    "        return False\n",
    "    \n",
    "    isSmallerPartSorted = isListSortedBetter(lst,si+1)\n",
    "    return isSmallerPartSorted"
   ]
  },
  {
   "cell_type": "markdown",
   "id": "d8cdf67b",
   "metadata": {},
   "source": [
    "# Sum of all elements of list"
   ]
  },
  {
   "cell_type": "code",
   "execution_count": 196,
   "id": "bec92d34",
   "metadata": {},
   "outputs": [],
   "source": [
    "def sumArray(arr):\n",
    "    if len(arr) == 0:\n",
    "        return 0\n",
    "\n",
    "    return arr[0] + sumArray(arr[1:])"
   ]
  },
  {
   "cell_type": "markdown",
   "id": "23a8fc81",
   "metadata": {},
   "source": [
    "# Check number in list"
   ]
  },
  {
   "cell_type": "code",
   "execution_count": 197,
   "id": "fe027f80",
   "metadata": {},
   "outputs": [],
   "source": [
    "def checkNumber(arr, x):\n",
    "    if len(arr) == 0:\n",
    "        return False\n",
    "\n",
    "    if arr[0] == x or checkNumber(arr[1:], x):\n",
    "        return True\n",
    "    return False"
   ]
  },
  {
   "cell_type": "markdown",
   "id": "d4a2380c",
   "metadata": {},
   "source": [
    "# First index of number"
   ]
  },
  {
   "cell_type": "code",
   "execution_count": 198,
   "id": "11dc5fec",
   "metadata": {},
   "outputs": [],
   "source": [
    "def firstIndex(arr, x):\n",
    "    if len(arr) == 0:\n",
    "        return -1\n",
    "    if arr[0] == x:\n",
    "        return 0\n",
    "    smallOutput = firstIndex(arr[1:], x)\n",
    "    if smallOutput != -1:\n",
    "        return smallOutput+1\n",
    "    else:\n",
    "        return -1\n",
    "\n",
    "def firstIndexBetter(arr, x, si=0):\n",
    "    if len(arr) == 0:\n",
    "        return -1\n",
    "    if arr[0] == x:\n",
    "        return si\n",
    "    else:\n",
    "        return firstIndexBetter(arr[1:], x, si+1)"
   ]
  },
  {
   "cell_type": "markdown",
   "id": "c9ebfc37",
   "metadata": {},
   "source": [
    "# Last index of number"
   ]
  },
  {
   "cell_type": "code",
   "execution_count": 199,
   "id": "f7101f3f",
   "metadata": {},
   "outputs": [],
   "source": [
    "def lastIndex(arr, x):\n",
    "    if len(arr) <= 0:\n",
    "        return -1\n",
    "    \n",
    "    smallOutput = lastIndex(arr[1:], x)\n",
    "    if smallOutput == -1:\n",
    "        if arr[0] == x:\n",
    "            return 0\n",
    "        else:\n",
    "            return -1\n",
    "    else:\n",
    "        return smallOutput + 1\n",
    "    \n",
    "def lastIndexBetter(arr, x, si=0):\n",
    "    if si == len(arr):\n",
    "        return -1\n",
    "    smallOutput = lastIndexBetter(arr, x, si+1)\n",
    "    if smallOutput != -1:\n",
    "        return smallOutput\n",
    "    else:\n",
    "        if arr[si] == x:\n",
    "            return si\n",
    "        else:\n",
    "            return -1"
   ]
  },
  {
   "cell_type": "markdown",
   "id": "e2f09c08",
   "metadata": {},
   "source": [
    "# Replace character"
   ]
  },
  {
   "cell_type": "code",
   "execution_count": 200,
   "id": "c8134f1a",
   "metadata": {},
   "outputs": [],
   "source": [
    "def replaceChar(s,a,b):\n",
    "    if len(s) == 0:\n",
    "        return s\n",
    "    smallOutput = replaceChar(s[1:],a,b)\n",
    "    if s[0] == a:\n",
    "        return b + smallOutput\n",
    "    else:\n",
    "        return s[0] + smallOutput"
   ]
  },
  {
   "cell_type": "markdown",
   "id": "9a1f0009",
   "metadata": {},
   "source": [
    "# Remove x"
   ]
  },
  {
   "cell_type": "code",
   "execution_count": 201,
   "id": "7441777e",
   "metadata": {},
   "outputs": [],
   "source": [
    "def removeX(string): \n",
    "    if len(string) == 0:\n",
    "        return string\n",
    "    smallOutput = removeX(string[1:])\n",
    "    if string[0] == 'x':\n",
    "        return smallOutput\n",
    "    else:\n",
    "        return string[0] + smallOutput"
   ]
  },
  {
   "cell_type": "markdown",
   "id": "c4d2d18d",
   "metadata": {},
   "source": [
    "# Replace pi"
   ]
  },
  {
   "cell_type": "code",
   "execution_count": 202,
   "id": "24ee5112",
   "metadata": {},
   "outputs": [],
   "source": [
    "def replacePi(s):\n",
    "    if len(s) == 0 or len(s) == 1:\n",
    "        return s\n",
    "    \n",
    "    if s[0] == 'p' and s[1] == 'i':\n",
    "        return \"3.14\"+ replacePi(s[2:])\n",
    "    else:\n",
    "        return s[0] + replacePi(s[1:])"
   ]
  },
  {
   "cell_type": "markdown",
   "id": "318b7d36",
   "metadata": {},
   "source": [
    "# Remove duplicates"
   ]
  },
  {
   "cell_type": "code",
   "execution_count": 203,
   "id": "673c28ab",
   "metadata": {},
   "outputs": [],
   "source": [
    "def removeConsecutiveDuplicates(string):\n",
    "    if len(string) <= 1:\n",
    "        return string\n",
    "    \n",
    "    if string[0] == string[1]:\n",
    "        return removeConsecutiveDuplicates(string[1:])\n",
    "    else:\n",
    "        return string[0] + removeConsecutiveDuplicates(string[1:])"
   ]
  },
  {
   "cell_type": "markdown",
   "id": "e7eea603",
   "metadata": {},
   "source": [
    "# Binary Search"
   ]
  },
  {
   "cell_type": "code",
   "execution_count": 204,
   "id": "1c751e54",
   "metadata": {},
   "outputs": [],
   "source": [
    "def binarySearch(arr, x, si, ei):\n",
    "    if si > ei:\n",
    "        return -1\n",
    "    \n",
    "    mid = (si+ei)//2\n",
    "    \n",
    "    if arr[mid] == x:\n",
    "        return mid\n",
    "    elif arr[mid] > x:\n",
    "        return binarySearch(arr, x, si, mid-1)\n",
    "    else:\n",
    "        return binarySearch(arr, x, mid+1, ei)"
   ]
  },
  {
   "cell_type": "markdown",
   "id": "1c35ee85",
   "metadata": {},
   "source": [
    "# Merge Sort"
   ]
  },
  {
   "cell_type": "code",
   "execution_count": 205,
   "id": "a695136c",
   "metadata": {},
   "outputs": [],
   "source": [
    "def merge(lst1,lst2,lst):\n",
    "    l1, l2, l = 0, 0, 0\n",
    "\n",
    "    while l1 < len(lst1) and l2 < len(lst2):\n",
    "        if lst1[l1] < lst2[l2]:\n",
    "            lst[l] = lst1[l1]\n",
    "            l1+=1\n",
    "        else:\n",
    "            lst[l] = lst2[l2]\n",
    "            l2+=1\n",
    "        l+=1\n",
    "\n",
    "    while l1 < len(lst1):\n",
    "        lst[l] = lst1[l1]\n",
    "        l1+=1\n",
    "        l+=1\n",
    "        \n",
    "    while l2 < len(lst2):\n",
    "        lst[l] = lst2[l2]\n",
    "        l2+=1\n",
    "        l+=1\n",
    "\n",
    "def mergeSort(lst):\n",
    "    if len(lst) <= 1:\n",
    "        return\n",
    "    \n",
    "    mid = len(lst)//2\n",
    "    lst1 = lst[0:mid]\n",
    "    lst2 = lst[mid:]\n",
    "    \n",
    "    mergeSort(lst1) \n",
    "    mergeSort(lst2)\n",
    "    \n",
    "    merge(lst1,lst2,lst)"
   ]
  },
  {
   "cell_type": "markdown",
   "id": "d64fb497",
   "metadata": {},
   "source": [
    "# Quick Sort"
   ]
  },
  {
   "cell_type": "code",
   "execution_count": 206,
   "id": "7ce09724",
   "metadata": {},
   "outputs": [],
   "source": [
    "def partition(arr, si, ei):\n",
    "    pivot = arr[si]\n",
    "    c = 0 \n",
    "    for i in range(si,ei+1):\n",
    "        if arr[i] < pivot:\n",
    "            c+=1\n",
    "    arr[si+c], arr[si] = arr[si], arr[si+c]\n",
    "    pivot_index = si + c\n",
    "\n",
    "    i = si\n",
    "    j = ei\n",
    "    while i < j:\n",
    "        if arr[i] < pivot:\n",
    "            i = i+1\n",
    "        elif arr[j] >= pivot:\n",
    "            j = j-1\n",
    "        else:\n",
    "            arr[i], arr[j] = arr[j], arr[i]\n",
    "            i = i+1\n",
    "            j = j-1\n",
    "    return pivot_index\n",
    "\n",
    "def quick_sort(arr, si, ei):\n",
    "    if si >= ei:\n",
    "        return\n",
    "    \n",
    "    pivot_index = partition(arr,si,ei)\n",
    "    quick_sort(arr, si, pivot_index-1)\n",
    "    quick_sort(arr, pivot_index+1, ei)"
   ]
  },
  {
   "cell_type": "markdown",
   "id": "316a8024",
   "metadata": {},
   "source": [
    "# Tower of Hanoi"
   ]
  },
  {
   "cell_type": "code",
   "execution_count": 207,
   "id": "2f6f233a",
   "metadata": {},
   "outputs": [],
   "source": [
    "def towerofhanoi(n, source, aux, dest):\n",
    "    if n == 1:\n",
    "        print(source + \" \" + dest)\n",
    "        return\n",
    "        \n",
    "    towerofhanoi(n-1, source, dest, aux)\n",
    "    towerofhanoi(1, source, aux, dest)\n",
    "    towerofhanoi(n-1, aux, source, dest)"
   ]
  },
  {
   "cell_type": "markdown",
   "id": "43765bcc",
   "metadata": {},
   "source": [
    "# Geometric Sum"
   ]
  },
  {
   "cell_type": "code",
   "execution_count": 208,
   "id": "9567707b",
   "metadata": {},
   "outputs": [],
   "source": [
    "def geometricSum(num):\n",
    "    if num == 0:\n",
    "        return 1\n",
    "    \n",
    "    return (1/2**num) + geometricSum(num-1)"
   ]
  },
  {
   "cell_type": "markdown",
   "id": "02ddd93e",
   "metadata": {},
   "source": [
    "# Check Palindrome"
   ]
  },
  {
   "cell_type": "code",
   "execution_count": 209,
   "id": "ec80ff5f",
   "metadata": {},
   "outputs": [],
   "source": [
    "def checkPalindrome(string):\n",
    "    if len(string) <= 1:\n",
    "        return True\n",
    "    if string[0] != string[len(string)-1]:\n",
    "        return False\n",
    "\n",
    "    return checkPalindrome(string[1:-1])"
   ]
  },
  {
   "cell_type": "markdown",
   "id": "f46bacdc",
   "metadata": {},
   "source": [
    "# Sum of digits"
   ]
  },
  {
   "cell_type": "code",
   "execution_count": 210,
   "id": "592154c7",
   "metadata": {},
   "outputs": [],
   "source": [
    "def sum_of_digits(numbers):\n",
    "    if len(numbers) == 1:\n",
    "        return numbers\n",
    "    \n",
    "    return int(numbers[0]) + int(sum_of_digits(numbers[1:]))"
   ]
  },
  {
   "cell_type": "markdown",
   "id": "74ba98e9",
   "metadata": {},
   "source": [
    "# Multiplication"
   ]
  },
  {
   "cell_type": "code",
   "execution_count": 211,
   "id": "ffc2e49d",
   "metadata": {},
   "outputs": [],
   "source": [
    "def multiplication(n1,n2):\n",
    "    if n2 == 0:\n",
    "        return 0\n",
    "    \n",
    "    return n1 + multiplication(n1,n2-1)"
   ]
  },
  {
   "cell_type": "markdown",
   "id": "49811461",
   "metadata": {},
   "source": [
    "# Count zeros"
   ]
  },
  {
   "cell_type": "code",
   "execution_count": 212,
   "id": "576d696b",
   "metadata": {},
   "outputs": [],
   "source": [
    "def countZeros(n,count=0):\n",
    "    if len(n) == 0:\n",
    "        return 0\n",
    "\n",
    "    count = countZeros(n[1:],count)\n",
    "    if n[0] == '0':\n",
    "        count+=1\n",
    "\n",
    "    return count"
   ]
  },
  {
   "cell_type": "markdown",
   "id": "42c88315",
   "metadata": {},
   "source": [
    "# String to integer"
   ]
  },
  {
   "cell_type": "code",
   "execution_count": 213,
   "id": "6113c172",
   "metadata": {},
   "outputs": [],
   "source": [
    "def string_to_Integer(string):\n",
    "    if len(string) == 0:\n",
    "        return 0\n",
    "    elif string[0] != '0':\n",
    "        return string\n",
    "\n",
    "    return string_to_Integer(string[1:])"
   ]
  },
  {
   "cell_type": "markdown",
   "id": "10fe355c",
   "metadata": {},
   "source": [
    "# Pair star"
   ]
  },
  {
   "cell_type": "code",
   "execution_count": 214,
   "id": "aab6cecd",
   "metadata": {},
   "outputs": [],
   "source": [
    "def pairStar(string):\n",
    "    if len(string) <= 1:\n",
    "        return string\n",
    "\n",
    "    smallOutput = pairStar(string[1:])\n",
    "    if string[0] == string[1]:\n",
    "        return string[0] + '*' + smallOutput\n",
    "    else:\n",
    "        return string[0] + smallOutput"
   ]
  },
  {
   "cell_type": "markdown",
   "id": "165f44c7",
   "metadata": {},
   "source": [
    "# Check AB"
   ]
  },
  {
   "cell_type": "code",
   "execution_count": 215,
   "id": "a4f02ef8",
   "metadata": {},
   "outputs": [],
   "source": [
    "def checkAB(s):\n",
    "    if len(s) == 0:\n",
    "        return True\n",
    "\n",
    "    if s[0] == \"a\":\n",
    "        if len(s[1:]) > 1 and s[1:3] == \"bb\":\n",
    "            return checkAB(s[3:])\n",
    "        else:\n",
    "            return checkAB(s[1:])\n",
    "    else:\n",
    "        return False"
   ]
  },
  {
   "cell_type": "markdown",
   "id": "e9969e5a",
   "metadata": {},
   "source": [
    "# Staircase"
   ]
  },
  {
   "cell_type": "code",
   "execution_count": 216,
   "id": "daebbf15",
   "metadata": {},
   "outputs": [],
   "source": [
    "def Staircase(n):\n",
    "    if(n <= 3):\n",
    "        if(n == 1):\n",
    "            return 1\n",
    "        elif(n == 2):\n",
    "            return 2\n",
    "        else:\n",
    "            return 4\n",
    "\n",
    "    x = Staircase(n-1)\n",
    "    y = Staircase(n-2)\n",
    "    z = Staircase(n-3)\n",
    "    return x + y + z"
   ]
  },
  {
   "cell_type": "markdown",
   "id": "a7f4e8eb",
   "metadata": {},
   "source": [
    "# Does s contain t ?"
   ]
  },
  {
   "cell_type": "code",
   "execution_count": 217,
   "id": "b3a5bbcd",
   "metadata": {},
   "outputs": [],
   "source": [
    "def contains(s,t):\n",
    "    if len(t) == 0:\n",
    "        return True\n",
    "    elif len(s) == 0 and len(t) != 0:\n",
    "        return False\n",
    "    if s[0] == t[0]:\n",
    "        return contains(s[1:],t[1:])\n",
    "    else:\n",
    "        return contains(s[1:],t)"
   ]
  },
  {
   "cell_type": "markdown",
   "id": "6bc91235",
   "metadata": {},
   "source": [
    "# Maximum profit on App"
   ]
  },
  {
   "cell_type": "code",
   "execution_count": 218,
   "id": "f2135af5",
   "metadata": {},
   "outputs": [],
   "source": [
    "def maximumProfit(budget, n):\n",
    "    max_profit = 0\n",
    "    budget.sort()\n",
    "    for i in budget:\n",
    "        if max_profit < i*n:\n",
    "            max_profit = i*n\n",
    "        n = n-1\n",
    "    return max_profit"
   ]
  },
  {
   "cell_type": "markdown",
   "id": "a4b7e6a3",
   "metadata": {},
   "source": [
    "# Split array\n",
    "\n",
    "Given an integer array A of size N, check if the input array can be splitted in two parts such that -\n",
    "- Sum of both parts is equal\n",
    "- All elements in the input, which are divisible by 5 should be in same group.\n",
    "- All elements in the input, which are divisible by 3 (but not divisible by 5) should be in other group.\n",
    "- Elements which are neither divisible by 5 nor by 3, can be put in any group.\n",
    "Groups can be made with any set of elements, i.e. elements need not to be continuous. And you need to consider each and every element of input array in some group.\n",
    "Return true, if array can be split according to the above rules, else return false."
   ]
  },
  {
   "cell_type": "code",
   "execution_count": 219,
   "id": "b5833df7",
   "metadata": {},
   "outputs": [],
   "source": [
    "def splitHelper(arr,index,sum_3,sum_5):\n",
    "    if len(arr) == index:\n",
    "        return sum_3 == sum_5\n",
    "    if arr[index] % 5 == 0:\n",
    "        sum_5+=arr[index]\n",
    "    elif arr[index] % 3 == 0:\n",
    "        sum_3+=arr[index]\n",
    "    else:\n",
    "        return splitHelper(arr, index + 1, sum_3 + arr[index], sum_5) or splitHelper(arr, index + 1, sum_3, sum_5 + arr[index])\n",
    "\n",
    "    return splitHelper(arr, index + 1, sum_3, sum_5)\n",
    "\n",
    "def split(arr,i,sum):\n",
    "    return splitHelper(arr,i,0,0)"
   ]
  },
  {
   "cell_type": "markdown",
   "id": "663d616a",
   "metadata": {},
   "source": [
    "# Return subsequences\n",
    "\n",
    "Given a string (let's say of length n), return all the subsequences of the given string.\n",
    "Subsequences contain all the strings of length varying from 0 to n. But the order of characters should remain the same as in the input string.\n",
    "Note: The order of subsequences are not important."
   ]
  },
  {
   "cell_type": "code",
   "execution_count": 220,
   "id": "4db8acef",
   "metadata": {},
   "outputs": [],
   "source": [
    "def subsequences(string):\n",
    "    if len(string) == 0:\n",
    "        return ['']\n",
    "\n",
    "    smallOutput = subsequences(string[1:])\n",
    "    ans = smallOutput\n",
    "\n",
    "    for i in range(len(smallOutput)):\n",
    "        ans.append(string[0] + smallOutput[i])\n",
    "\n",
    "    return ans"
   ]
  },
  {
   "cell_type": "markdown",
   "id": "f9cc4148",
   "metadata": {},
   "source": [
    "# Return keypad\n",
    "\n",
    "Given an integer n, using phone keypad find out and return all the possible strings that can be made using digits of input n.\n",
    "Note : The order of strings are not important."
   ]
  },
  {
   "cell_type": "code",
   "execution_count": 221,
   "id": "87c049e0",
   "metadata": {},
   "outputs": [],
   "source": [
    "def getString(d):\n",
    "    if d == 2:\n",
    "        return \"abc\"\n",
    "    if d == 3:\n",
    "        return \"def\"\n",
    "    if d == 4:\n",
    "        return \"ghi\"\n",
    "    if d == 5:\n",
    "        return \"jkl\"\n",
    "    if d == 6:\n",
    "        return \"mno\"\n",
    "    if d == 7:\n",
    "        return \"pqrs\"\n",
    "    if d == 8:\n",
    "        return \"tuv\"\n",
    "    if d == 9:\n",
    "        return \"wxyz\"\n",
    "    return \" \"   \n",
    "\n",
    "def keypad(n):\n",
    "    if len(n) == 0:\n",
    "        return ['']\n",
    "\n",
    "    smallOutput = keypad(n[1:])\n",
    "    numAlpha = getString(int(n[0]))\n",
    "\n",
    "    ans = []\n",
    "    for a in numAlpha:\n",
    "        for i in smallOutput:\n",
    "            ans.append(a+i)\n",
    "\n",
    "    return ans"
   ]
  },
  {
   "cell_type": "markdown",
   "id": "9d6bc376",
   "metadata": {},
   "source": [
    "# Print factorial"
   ]
  },
  {
   "cell_type": "code",
   "execution_count": 222,
   "id": "9a501e04",
   "metadata": {},
   "outputs": [],
   "source": [
    "def printFact(n,ans=1):\n",
    "    if n == 0:\n",
    "        print(ans)\n",
    "        return\n",
    "    ans = ans*n\n",
    "    return printFact(n-1,ans)"
   ]
  },
  {
   "cell_type": "markdown",
   "id": "9339ac89",
   "metadata": {},
   "source": [
    "# Print minimum in element list"
   ]
  },
  {
   "cell_type": "code",
   "execution_count": 223,
   "id": "51bb20b3",
   "metadata": {},
   "outputs": [],
   "source": [
    "from sys import maxsize as MAX_VALUE\n",
    "\n",
    "def printMin(arr,min_val=MAX_VALUE):\n",
    "    if len(arr) == 0:\n",
    "        print(min_val)\n",
    "        return\n",
    "    if arr[0] < min_val:\n",
    "        min_val = arr[0]\n",
    "        \n",
    "    return printMin(arr[1:],min_val)"
   ]
  },
  {
   "cell_type": "markdown",
   "id": "0495161b",
   "metadata": {},
   "source": [
    "# Print subsequences\n",
    "\n",
    "Given a string (lets say of length n), print all the subsequences of the given string.\n",
    "Subsequences contain all the strings of length varying from 0 to n. But the order of characters should remain same as in the input string."
   ]
  },
  {
   "cell_type": "code",
   "execution_count": 224,
   "id": "e701432e",
   "metadata": {},
   "outputs": [],
   "source": [
    "def printSubs(string, subsequences=''):\n",
    "    if len(string) == 0:\n",
    "        print(subsequences)\n",
    "        return\n",
    "\n",
    "    printSubs(string[1:], subsequences + string[0])\n",
    "    printSubs(string[1:], subsequences)"
   ]
  },
  {
   "cell_type": "markdown",
   "id": "c8fd7424",
   "metadata": {},
   "source": [
    "# Print keypad\n",
    "\n",
    "Given an integer n, using phone keypad find out and print all the possible strings that can be made using digits of input n.\n",
    "Note : The order of strings are not important. Just print different strings in new lines."
   ]
  },
  {
   "cell_type": "code",
   "execution_count": 225,
   "id": "382602ba",
   "metadata": {},
   "outputs": [],
   "source": [
    "def getString(d):\n",
    "    if d == 2:\n",
    "        return \"abc\"\n",
    "    if d == 3:\n",
    "        return \"def\"\n",
    "    if d == 4:\n",
    "        return \"ghi\"\n",
    "    if d == 5:\n",
    "        return \"jkl\"\n",
    "    if d == 6:\n",
    "        return \"mno\"\n",
    "    if d == 7:\n",
    "        return \"pqrs\"\n",
    "    if d == 8:\n",
    "        return \"tuv\"\n",
    "    if d == 9:\n",
    "        return \"wxyz\"\n",
    "    return \" \"\n",
    "\n",
    "def printKeypad(n, outputSoFar=''):\n",
    "    if len(n) == 0:\n",
    "        print(outputSoFar)\n",
    "        return\n",
    "\n",
    "    for c in getString(int(n[0])):\n",
    "        printKeypad(n[1:], outputSoFar + c)"
   ]
  },
  {
   "cell_type": "markdown",
   "id": "df320455",
   "metadata": {},
   "source": [
    "# Return subsets sum to K\n",
    "\n",
    "Given an array A of size n and an integer K, return all subsets of A which sum to K.\n",
    "Subsets are of length varying from 0 to n, that contain elements of the array. But the order of elements should remain same as in the input array.\n",
    "Note : The order of subsets are not important."
   ]
  },
  {
   "cell_type": "code",
   "execution_count": 226,
   "id": "90c7ad86",
   "metadata": {},
   "outputs": [],
   "source": [
    "def subsetsSumK(arr, k):\n",
    "    if len(arr) == 0:\n",
    "        return []\n",
    "\n",
    "    notInclude = subsetsSumK(arr[:-1], k)\n",
    "    include = subsetsSumK(arr[:-1], k - arr[-1])\n",
    "    \n",
    "    for lst in include:\n",
    "        lst.append(arr[-1])\n",
    "        \n",
    "    if arr[-1] == k:\n",
    "        include.append([k])\n",
    "        \n",
    "    return notInclude + include"
   ]
  },
  {
   "cell_type": "markdown",
   "id": "35ef8fc0",
   "metadata": {},
   "source": [
    "# Return subset of an array\n",
    "\n",
    "Given an integer array (of length n), find and return all the subsets of input array.\n",
    "Subsets are of length varying from 0 to n, that contain elements of the array. But the order of elements should remain same as in the input array.\n",
    "Note : The order of subsets are not important.\n",
    "Input format :\n",
    "\n",
    "Line 1 : Size of array\n",
    "\n",
    "Line 2 : Array elements (separated by space)"
   ]
  },
  {
   "cell_type": "code",
   "execution_count": 227,
   "id": "e3100630",
   "metadata": {},
   "outputs": [],
   "source": [
    "def subset(arr):\n",
    "    if len(arr) == 0:\n",
    "        return [[]]\n",
    "\n",
    "    smallOutput = subset(arr[1:])\n",
    "    \n",
    "    ans = []\n",
    "    for i in smallOutput:\n",
    "        ans.append(i)\n",
    "        ans.append([arr[0]] + i)\n",
    "\n",
    "    return ans"
   ]
  },
  {
   "cell_type": "markdown",
   "id": "6396de12",
   "metadata": {},
   "source": [
    "# Return permutations of a String\n",
    "\n",
    "Given a string, find and return all the possible permutations of the input string.\n",
    "Note : The order of permutations are not important."
   ]
  },
  {
   "cell_type": "code",
   "execution_count": 228,
   "id": "f47d33f5",
   "metadata": {},
   "outputs": [],
   "source": [
    "def permutations(string):\n",
    "    if len(string) == 0:\n",
    "        return  ['']\n",
    "\n",
    "    ans = []\n",
    "    for i in range(len(string)):\n",
    "        send = string[0:i] + string[i+1:]\n",
    "        smallOutput = permutations(send)\n",
    "        for j in range(len(smallOutput)):\n",
    "            ans.append(string[i] + smallOutput[j])\n",
    "\n",
    "    return ans"
   ]
  },
  {
   "cell_type": "markdown",
   "id": "3762435d",
   "metadata": {},
   "source": [
    "# Print subsets of list\n",
    "\n",
    "Given an integer array (of length n), find and print all the subsets of input array.\n",
    "Subsets are of length varying from 0 to n, that contain elements of the array. But the order of elements should remain same as in the input array.\n",
    "Note : The order of subsets are not important. Just print the subsets in different lines."
   ]
  },
  {
   "cell_type": "code",
   "execution_count": 229,
   "id": "65fa8ffb",
   "metadata": {},
   "outputs": [],
   "source": [
    "def printsubset(arr, lst=[]):\n",
    "    n = len(arr)\n",
    "    if n == 0:\n",
    "        for number in lst:\n",
    "            print(number, end=' ')\n",
    "        print()\n",
    "        return\n",
    "\n",
    "    printsubset(arr[1:], lst)\n",
    "    newLst = lst.copy()\n",
    "    newLst.append(arr[0])\n",
    "    printsubset(arr[1:], newLst)\n",
    "\n",
    "    return"
   ]
  },
  {
   "cell_type": "markdown",
   "id": "a4329e2c",
   "metadata": {},
   "source": [
    "# Print subset sum to K\n",
    "\n",
    "Given an array A and an integer K, print all subsets of A which sum to K.\n",
    "Subsets are of length varying from 0 to n, that contain elements of the array. But the order of elements should remain same as in the input array.\n",
    "Note : The order of subsets are not important. Just print them in different lines."
   ]
  },
  {
   "cell_type": "code",
   "execution_count": 230,
   "id": "98afe6b2",
   "metadata": {},
   "outputs": [],
   "source": [
    "def printSubset(arr, k, output = [], index = 0):\n",
    "    if index == len(arr):\n",
    "        if k == 0:\n",
    "            for val in output:\n",
    "                print(val,end=\" \")\n",
    "            print()\n",
    "        return\n",
    "\n",
    "    printSubset(arr, k-arr[index], output + [arr[index]], index+1)\n",
    "    printSubset(arr, k, output, index+1)\n",
    "\n",
    "    return"
   ]
  },
  {
   "cell_type": "markdown",
   "id": "ae031987",
   "metadata": {},
   "source": [
    "# Print permutations of a string\n",
    "\n",
    "Given a string, find and print all the possible permutations of the input string.\n",
    "Note : The order of permutations are not important. Just print them in different lines."
   ]
  },
  {
   "cell_type": "code",
   "execution_count": 231,
   "id": "6549e4ff",
   "metadata": {},
   "outputs": [],
   "source": [
    "def printPermutations(string,output=''):\n",
    "    if len(string) == 0:\n",
    "        print(output)\n",
    "        return\n",
    "\n",
    "    for i in range(len(string)):\n",
    "        keep = string[i]\n",
    "        send = string[0:i] + string[i+1:]\n",
    "        printPermutations(send, keep + output)\n",
    "\n",
    "    return"
   ]
  }
 ],
 "metadata": {
  "kernelspec": {
   "display_name": "Python 3 (ipykernel)",
   "language": "python",
   "name": "python3"
  },
  "language_info": {
   "codemirror_mode": {
    "name": "ipython",
    "version": 3
   },
   "file_extension": ".py",
   "mimetype": "text/x-python",
   "name": "python",
   "nbconvert_exporter": "python",
   "pygments_lexer": "ipython3",
   "version": "3.9.12"
  }
 },
 "nbformat": 4,
 "nbformat_minor": 5
}

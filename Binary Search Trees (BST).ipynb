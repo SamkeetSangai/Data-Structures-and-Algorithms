{
 "cells": [
  {
   "cell_type": "markdown",
   "id": "a906317a",
   "metadata": {},
   "source": [
    "# Binary Tree Class"
   ]
  },
  {
   "cell_type": "code",
   "execution_count": 34,
   "id": "a788a131",
   "metadata": {},
   "outputs": [],
   "source": [
    "class BinaryTreeNode:\n",
    "    def __init__(self,data):\n",
    "        self.data = data\n",
    "        self.left = None\n",
    "        self.right = None"
   ]
  },
  {
   "cell_type": "markdown",
   "id": "7dc498dd",
   "metadata": {},
   "source": [
    "# Search in BST"
   ]
  },
  {
   "cell_type": "code",
   "execution_count": 35,
   "id": "82c31c0a",
   "metadata": {},
   "outputs": [],
   "source": [
    "def searchInBST(root, k):\n",
    "    if root == None:\n",
    "        return False\n",
    "    if root.data == k:\n",
    "        return True\n",
    "    if k < root.data:\n",
    "        return searchInBST(root.left, k)\n",
    "    else:\n",
    "        return searchInBST(root.right, k)"
   ]
  },
  {
   "cell_type": "markdown",
   "id": "584b25ea",
   "metadata": {},
   "source": [
    "# Elements Between K1 and K2"
   ]
  },
  {
   "cell_type": "code",
   "execution_count": 36,
   "id": "02844444",
   "metadata": {},
   "outputs": [],
   "source": [
    "def elementsInRangeK1K2(root, k1, k2):\n",
    "    if root == None:\n",
    "        return\n",
    "    \n",
    "    if root.data >= k1 and root.data <= k2:\n",
    "        elementsInRangeK1K2(root.left, k1, k2)\n",
    "        print(root.data,end=' ')\n",
    "        elementsInRangeK1K2(root.right, k1, k2)\n",
    "    elif root.data > k2:\n",
    "        elementsInRangeK1K2(root.left, k1, k2)\n",
    "    elif root.data < k1:\n",
    "        elementsInRangeK1K2(root.right, k1, k2)\n",
    "    \n",
    "    return"
   ]
  },
  {
   "cell_type": "markdown",
   "id": "29fcbfbb",
   "metadata": {},
   "source": [
    "# Construct BST from sorted list"
   ]
  },
  {
   "cell_type": "code",
   "execution_count": 37,
   "id": "77889851",
   "metadata": {},
   "outputs": [],
   "source": [
    "def constructBST(lst):\n",
    "    if len(lst) == 0:\n",
    "        return\n",
    "    middleIndex = (len(lst)-1)//2\n",
    "    root = BinaryTreeNode(lst[middleIndex])\n",
    "    \n",
    "    leftSubTree = constructBST(lst[0:middleIndex])\n",
    "    rightSubTree = constructBST(lst[middleIndex+1:])\n",
    "    \n",
    "    root.left = leftSubTree\n",
    "    root.right = rightSubTree\n",
    "    \n",
    "    return root"
   ]
  },
  {
   "cell_type": "markdown",
   "id": "01bb2b71",
   "metadata": {},
   "source": [
    "# Check if tree is BST"
   ]
  },
  {
   "cell_type": "code",
   "execution_count": 38,
   "id": "4283c8bc",
   "metadata": {},
   "outputs": [],
   "source": [
    "import sys\n",
    "\n",
    "def minTree(root):\n",
    "    if root == None:\n",
    "        return sys.maxsize\n",
    "    return min(minTree(root.left),minTree(root.right),root.data)\n",
    "\n",
    "def maxTree(root):\n",
    "    if root == None:\n",
    "        return -sys.maxsize\n",
    "    return max(maxTree(root.left),maxTree(root.right),root.data)\n",
    "\n",
    "def isBST(root):\n",
    "    if root == None:\n",
    "        return True\n",
    "    \n",
    "    leftMaximum = maxTree(root.left)\n",
    "    rightMinimum = minTree(root.right)\n",
    "    \n",
    "    if leftMaximum >= root.data or rightMinimum < root.data:\n",
    "        return False\n",
    "    \n",
    "    isLeftBST = isBST(root.left)\n",
    "    isRightBST = isBST(root.right)\n",
    "    \n",
    "    return isLeftBST and isRightBST"
   ]
  },
  {
   "cell_type": "markdown",
   "id": "2a988bf3",
   "metadata": {},
   "source": [
    "# Check if tree is BST and return minimum and maximum value "
   ]
  },
  {
   "cell_type": "code",
   "execution_count": 39,
   "id": "fd478875",
   "metadata": {},
   "outputs": [],
   "source": [
    "import sys\n",
    "\n",
    "def Min_Max_isBST(root):\n",
    "    if root == None:\n",
    "        return sys.maxsize,-sys.maxsize,True\n",
    "    \n",
    "    leftMinimum, leftMaximum, isLeftBST = Min_Max_isBST(root.left)\n",
    "    rightMinimum, rightMaximum, isRightBST = Min_Max_isBST(root.right)\n",
    "    \n",
    "    minimum = min(leftMinimum,rightMinimum,root.data)\n",
    "    maximum = max(leftMaximum,rightMaximum,root.data)\n",
    "    \n",
    "    isTreeBST = True\n",
    "    if leftMaximum >= root.data or rightMinimum < root.data:\n",
    "        isTreeBST = False\n",
    "    \n",
    "    if not isLeftBST or not isRightBST:\n",
    "        isTreeBST = False\n",
    "        \n",
    "    return minimum, maximum, isTreeBST"
   ]
  },
  {
   "cell_type": "markdown",
   "id": "eff70f9e",
   "metadata": {},
   "source": [
    "# Check if tree is BST improved"
   ]
  },
  {
   "cell_type": "code",
   "execution_count": 40,
   "id": "59a00222",
   "metadata": {},
   "outputs": [],
   "source": [
    "import sys\n",
    "\n",
    "def isBST_Improved(root,minRange = -sys.maxsize, maxRange = sys.maxsize):\n",
    "    if root == None:\n",
    "        return True\n",
    "    \n",
    "    if root.data < minRange or root.data > maxRange:\n",
    "        return False\n",
    "    \n",
    "    isLeftSubTreeWithinConstraints = isBST_Improved(root.left,minRange,root.data-1)\n",
    "    isRightSubTreeWithinConstraints = isBST_Improved(root.right,root.data,maxRange)\n",
    "    \n",
    "    return isLeftSubTreeWithinConstraints and isRightSubTreeWithinConstraints"
   ]
  },
  {
   "cell_type": "markdown",
   "id": "a93a1b28",
   "metadata": {},
   "source": [
    "# Root to node path in BST"
   ]
  },
  {
   "cell_type": "code",
   "execution_count": 41,
   "id": "69d31513",
   "metadata": {},
   "outputs": [],
   "source": [
    "def findPathBST(root,data):\n",
    "    if root == None :\n",
    "        return None\n",
    "    if root.data == data :\n",
    "        path = [root.data]\n",
    "        return path\n",
    "    if root.data > data :\n",
    "        leftOutput = findPathBST(root.left,data)\n",
    "        if leftOutput != None :\n",
    "            leftOutput.append(root.data)\n",
    "            return leftOutput\n",
    "    elif root.data <= data :\n",
    "        rightOutput = findPathBST(root.right,data)\n",
    "        if rightOutput != None :\n",
    "            rightOutput.append(root.data)\n",
    "            return rightOutput\n",
    "        else :\n",
    "            return None"
   ]
  },
  {
   "cell_type": "code",
   "execution_count": 42,
   "id": "6ebc7f6d",
   "metadata": {},
   "outputs": [],
   "source": [
    "import queue\n",
    "\n",
    "def takeLevelWiseTreeInput():\n",
    "    q = queue.Queue()\n",
    "    print(\"Enter root data\")\n",
    "    rootData = int(input())\n",
    "    if rootData == -1:\n",
    "        return None\n",
    "    root = BinaryTreeNode(rootData)\n",
    "    q.put(root)\n",
    "    \n",
    "    while not q.empty():\n",
    "        currentNode = q.get()\n",
    "        \n",
    "        print(\"Enter left child of {}\".format(currentNode.data))\n",
    "        leftChildData = int(input())\n",
    "        \n",
    "        print(\"Enter right child of {}\".format(currentNode.data))\n",
    "        rightChildData = int(input())\n",
    "        \n",
    "        if leftChildData != -1:\n",
    "            leftChild = BinaryTreeNode(leftChildData)\n",
    "            currentNode.left = leftChild\n",
    "            q.put(leftChild)\n",
    "            \n",
    "        if rightChildData != -1:\n",
    "            rightChild = BinaryTreeNode(rightChildData)\n",
    "            currentNode.right = rightChild\n",
    "            q.put(rightChild)\n",
    "            \n",
    "    return root"
   ]
  },
  {
   "cell_type": "markdown",
   "id": "d48a6f0d",
   "metadata": {},
   "source": [
    "# Binary Search Tree Class"
   ]
  },
  {
   "cell_type": "code",
   "execution_count": 43,
   "id": "9a64192a",
   "metadata": {},
   "outputs": [],
   "source": [
    "import sys\n",
    "\n",
    "class BST:\n",
    "    \n",
    "    def __init__(self):\n",
    "        self.root = None\n",
    "        self.numNodes = 0\n",
    "    \n",
    "    \n",
    "    def printTreeHelper(self, root):\n",
    "        if root == None :\n",
    "            return None\n",
    "        \n",
    "        print(root.data,end=\":\")\n",
    "        \n",
    "        if root.left != None :\n",
    "            print(\"L:\",end='')\n",
    "            print(root.left.data,end=',')\n",
    "            \n",
    "        if root.right != None :\n",
    "            print(\"R:\",end='')\n",
    "            print(root.right.data,end='')\n",
    "        print()\n",
    "        \n",
    "        self.printTreeHelper(root.left)\n",
    "        self.printTreeHelper(root.right)\n",
    "        \n",
    "        \n",
    "    def printTree(self):\n",
    "        return self.printTreeHelper(self.root)\n",
    "    \n",
    "    \n",
    "    def searchHelper(self, root, data):\n",
    "        if root == None:\n",
    "            return False\n",
    "        if root.data == data:\n",
    "            return True\n",
    "        if root.data > data:\n",
    "            return self.searchHelper(root.left,data)\n",
    "        else:\n",
    "            return self.searchHelper(root.right,data)\n",
    "        \n",
    "    def search(self, data):\n",
    "        return self.searchHelper(self.root, data)\n",
    "\n",
    "    \n",
    "    def insertHelper(self, root, data):\n",
    "        if root == None:\n",
    "            return BinaryTreeNode(data)\n",
    "        \n",
    "        if root.data >= data:\n",
    "            root.left = self.insertHelper(root.left, data)\n",
    "        else:\n",
    "            root.right = self.insertHelper(root.right, data)\n",
    "        \n",
    "        return root\n",
    "        \n",
    "    def insert(self, data):\n",
    "        self.numNodes += 1\n",
    "        self.root = self.insertHelper(self.root, data)\n",
    "    \n",
    "    \n",
    "    def min(self, root):\n",
    "        if root == None:\n",
    "            return sys.maxsize\n",
    "        \n",
    "        if root.left == None:\n",
    "            return root.data\n",
    "        \n",
    "        return self.min(root.left)\n",
    "    \n",
    "    def deleteDataHelper(self, root, data):\n",
    "        if root == None:\n",
    "            return False, None\n",
    "\n",
    "        if root.data > data:\n",
    "            deleted, newLeftNode = self.deleteDataHelper(root.left, data)\n",
    "            root.left = newLeftNode\n",
    "            return deleted, root\n",
    "        \n",
    "        if root.data < data:\n",
    "            deleted, newRightNode = self.deleteDataHelper(root.right, data)\n",
    "            root.right = newRightNode\n",
    "            return deleted, root\n",
    "\n",
    "        # root is leaf\n",
    "        if root.left == None and root.right == None:\n",
    "            return True, None\n",
    "        \n",
    "        # root has one child\n",
    "        if root.left == None:\n",
    "            return True, root.right\n",
    "        \n",
    "        if root.right == None:\n",
    "            return True, root.left\n",
    "        \n",
    "        # root has two children\n",
    "        replacement = self.min(root.right)\n",
    "        root.data = replacement\n",
    "        deleted, newRightNode = self.deleteDataHelper(root.right, replacement)\n",
    "        root.right = newRightNode\n",
    "        return True, root\n",
    "    \n",
    "    def delete(self, data):\n",
    "        deleted, newRoot = self.deleteDataHelper(self.root, data)\n",
    "        if deleted:\n",
    "            self.numNodes -= 1\n",
    "        self.root = newRoot\n",
    "        return deleted\n",
    "    \n",
    "    \n",
    "    def count(self):\n",
    "        return self.numNodes"
   ]
  }
 ],
 "metadata": {
  "kernelspec": {
   "display_name": "Python 3 (ipykernel)",
   "language": "python",
   "name": "python3"
  },
  "language_info": {
   "codemirror_mode": {
    "name": "ipython",
    "version": 3
   },
   "file_extension": ".py",
   "mimetype": "text/x-python",
   "name": "python",
   "nbconvert_exporter": "python",
   "pygments_lexer": "ipython3",
   "version": "3.9.12"
  }
 },
 "nbformat": 4,
 "nbformat_minor": 5
}

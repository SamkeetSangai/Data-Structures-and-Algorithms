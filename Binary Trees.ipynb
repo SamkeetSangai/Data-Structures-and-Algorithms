{
 "cells": [
  {
   "cell_type": "markdown",
   "id": "850bd288",
   "metadata": {},
   "source": [
    "# Binary Tree Class"
   ]
  },
  {
   "cell_type": "code",
   "execution_count": 1,
   "id": "75228a1c",
   "metadata": {},
   "outputs": [],
   "source": [
    "class BinaryTreeNode:\n",
    "    def __init__(self,data):\n",
    "        self.data = data\n",
    "        self.left = None\n",
    "        self.right = None"
   ]
  },
  {
   "cell_type": "markdown",
   "id": "fe051c8d",
   "metadata": {},
   "source": [
    "# Print Binary Tree"
   ]
  },
  {
   "cell_type": "code",
   "execution_count": 2,
   "id": "ca9a1ae6",
   "metadata": {},
   "outputs": [],
   "source": [
    "def printTree(root):\n",
    "    if root == None:\n",
    "        return \n",
    "    print(root.data)\n",
    "    printTree(root.left)\n",
    "    printTree(root.right)"
   ]
  },
  {
   "cell_type": "markdown",
   "id": "ad967c38",
   "metadata": {},
   "source": [
    "# Print Binary Tree in detail"
   ]
  },
  {
   "cell_type": "code",
   "execution_count": 3,
   "id": "0d7e4f88",
   "metadata": {},
   "outputs": [],
   "source": [
    "def printTreeDetailed(root):\n",
    "    if root == None:\n",
    "        return\n",
    "    print(root.data,end=\": \")\n",
    "    if root.left != None:\n",
    "        print(\"L:\",root.left.data,end=\", \")\n",
    "    if root.right != None:\n",
    "        print(\"R:\",root.right.data,end=\"\")\n",
    "    print()\n",
    "    \n",
    "    printTreeDetailed(root.left)\n",
    "    printTreeDetailed(root.right)"
   ]
  },
  {
   "cell_type": "markdown",
   "id": "7025baf5",
   "metadata": {},
   "source": [
    "# Take input for Binary Tree from user"
   ]
  },
  {
   "cell_type": "code",
   "execution_count": 4,
   "id": "b277df53",
   "metadata": {},
   "outputs": [],
   "source": [
    "def treeInput():\n",
    "    rootData = int(input())\n",
    "    if rootData == -1:\n",
    "        return None\n",
    "    root = BinaryTreeNode(rootData)\n",
    "    \n",
    "    leftTree = treeInput()\n",
    "    rightTree = treeInput()\n",
    "    \n",
    "    root.left = leftTree\n",
    "    root.right = rightTree\n",
    "    \n",
    "    return root"
   ]
  },
  {
   "cell_type": "markdown",
   "id": "805216ab",
   "metadata": {},
   "source": [
    "# Count total number of nodes in Binary Tree"
   ]
  },
  {
   "cell_type": "code",
   "execution_count": 5,
   "id": "768de885",
   "metadata": {},
   "outputs": [],
   "source": [
    "def numNodes(root):\n",
    "    if root == None:\n",
    "        return 0\n",
    "    \n",
    "    leftCount = numNodes(root.left)\n",
    "    rightCount = numNodes(root.right)\n",
    "    \n",
    "    return leftCount + rightCount + 1"
   ]
  },
  {
   "cell_type": "markdown",
   "id": "5ad2d091",
   "metadata": {},
   "source": [
    "# Return largest value from Binary Tree"
   ]
  },
  {
   "cell_type": "code",
   "execution_count": 6,
   "id": "707d5660",
   "metadata": {},
   "outputs": [],
   "source": [
    "def largestData(root):\n",
    "    if root == None:\n",
    "        return -1\n",
    "    leftLargest = largestData(root.left)\n",
    "    rightLargest = largestData(root.right)\n",
    "    \n",
    "    largest = max(root.data,leftLargest,rightLargest)\n",
    "    \n",
    "    return largest"
   ]
  },
  {
   "cell_type": "markdown",
   "id": "8a3df374",
   "metadata": {},
   "source": [
    "# Return sum of all nodes in a Binary Tree"
   ]
  },
  {
   "cell_type": "code",
   "execution_count": 7,
   "id": "c2890cfa",
   "metadata": {},
   "outputs": [],
   "source": [
    "def getSum(root):\n",
    "    if root == None:\n",
    "        return 0\n",
    "    leftSum = getSum(root.left)\n",
    "    rightSum = getSum(root.right)\n",
    "    return leftSum + rightSum + root.data"
   ]
  },
  {
   "cell_type": "markdown",
   "id": "470502c9",
   "metadata": {},
   "source": [
    "# Print Binary Tree nodes data in pre order form"
   ]
  },
  {
   "cell_type": "code",
   "execution_count": 8,
   "id": "d38a3243",
   "metadata": {},
   "outputs": [],
   "source": [
    "def preOrder(root):\n",
    "    if root == None :\n",
    "        return\n",
    "    print(root.data, end=\" \")\n",
    "    preOrder(root.left)\n",
    "    preOrder(root.right)"
   ]
  },
  {
   "cell_type": "markdown",
   "id": "ac3b8ddd",
   "metadata": {},
   "source": [
    "# Print Binary Tree nodes data in post order form"
   ]
  },
  {
   "cell_type": "code",
   "execution_count": 9,
   "id": "8f1d2f27",
   "metadata": {},
   "outputs": [],
   "source": [
    "def postOrder(root):\n",
    "    if root == None :\n",
    "        return\n",
    "    postOrder(root.left)\n",
    "    postOrder(root.right)\n",
    "    print(root.data, end=\" \")"
   ]
  },
  {
   "cell_type": "markdown",
   "id": "bd0862e7",
   "metadata": {},
   "source": [
    "# Return total nodes greater than x"
   ]
  },
  {
   "cell_type": "code",
   "execution_count": 10,
   "id": "c59e42b2",
   "metadata": {},
   "outputs": [],
   "source": [
    "def countNodesGreaterThanX(root,x):\n",
    "    if root == None:\n",
    "        return 0\n",
    "    \n",
    "    totalLeftGreaterThanX = countNodesGreaterThanX(root.left,x)\n",
    "    totalrightGreaterThanX = countNodesGreaterThanX(root.right,x)\n",
    "    \n",
    "    if root.data > x:\n",
    "        totalGreaterThanX = totalLeftGreaterThanX + totalrightGreaterThanX + 1\n",
    "    else:\n",
    "        totalGreaterThanX = totalLeftGreaterThanX + totalrightGreaterThanX\n",
    "        \n",
    "    return totalGreaterThanX"
   ]
  },
  {
   "cell_type": "markdown",
   "id": "ddf36ff7",
   "metadata": {},
   "source": [
    "# Return height of Binary Tree"
   ]
  },
  {
   "cell_type": "code",
   "execution_count": 11,
   "id": "1a21a655",
   "metadata": {},
   "outputs": [],
   "source": [
    "def height(root):\n",
    "    if root == None:\n",
    "        return 0\n",
    "    \n",
    "    leftSubTreeHeight = height(root.left)\n",
    "    rightSubTreeHeight = height(root.right)\n",
    "    \n",
    "    treeHeight = max(leftSubTreeHeight,rightSubTreeHeight) + 1\n",
    "    \n",
    "    return treeHeight"
   ]
  },
  {
   "cell_type": "markdown",
   "id": "57396cee",
   "metadata": {},
   "source": [
    "# Return total leaf nodes in Binary Tree"
   ]
  },
  {
   "cell_type": "code",
   "execution_count": 12,
   "id": "d5e3765b",
   "metadata": {},
   "outputs": [],
   "source": [
    "def numLeafNodes(root):\n",
    "    if root == None:\n",
    "        return 0\n",
    "    if root.left == None and root.right == None:\n",
    "        return 1\n",
    "    \n",
    "    leftTotalLeaf = numLeafNodes(root.left)\n",
    "    rightTotalLeaf = numLeafNodes(root.right)\n",
    "        \n",
    "    return leftTotalLeaf + rightTotalLeaf"
   ]
  },
  {
   "cell_type": "markdown",
   "id": "db007306",
   "metadata": {},
   "source": [
    "# Print all nodes at depth k in Binary Tree"
   ]
  },
  {
   "cell_type": "code",
   "execution_count": 13,
   "id": "61113896",
   "metadata": {},
   "outputs": [],
   "source": [
    "def printDepthK(root,k):\n",
    "    if root == None:\n",
    "        return\n",
    "    if k == 0:\n",
    "        print(root.data)\n",
    "        return\n",
    "    printDepthK(root.left,k-1)\n",
    "    printDepthK(root.right,k-1)"
   ]
  },
  {
   "cell_type": "markdown",
   "id": "5f241a82",
   "metadata": {},
   "source": [
    "# Print all nodes at depth k in Binary Tree"
   ]
  },
  {
   "cell_type": "code",
   "execution_count": 14,
   "id": "264edffe",
   "metadata": {},
   "outputs": [],
   "source": [
    "def printDepthKUpdated(root,k,d=0):\n",
    "    if root == None:\n",
    "        return\n",
    "    if k == d:\n",
    "        print(root.data)\n",
    "        return\n",
    "    printDepthKUpdated(root.left,k,d+1)\n",
    "    printDepthKUpdated(root.right,k,d+1)"
   ]
  },
  {
   "cell_type": "code",
   "execution_count": 15,
   "id": "961d71a0",
   "metadata": {},
   "outputs": [],
   "source": [
    "# printDepthKUpdated(root,1)"
   ]
  },
  {
   "cell_type": "markdown",
   "id": "ce7139e7",
   "metadata": {},
   "source": [
    "# Replace node value with depth of Binary Tree"
   ]
  },
  {
   "cell_type": "code",
   "execution_count": 16,
   "id": "c9762909",
   "metadata": {},
   "outputs": [],
   "source": [
    "def changeToDepthTree(root,d=0):\n",
    "    if root == None:\n",
    "        return\n",
    "    \n",
    "    root.data = d\n",
    "    changeToDepthTree(root.left,d+1)\n",
    "    changeToDepthTree(root.right,d+1)"
   ]
  },
  {
   "cell_type": "markdown",
   "id": "845e3b4b",
   "metadata": {},
   "source": [
    "# Check if node is present in Binary Tree"
   ]
  },
  {
   "cell_type": "code",
   "execution_count": 17,
   "id": "9dab62d8",
   "metadata": {},
   "outputs": [],
   "source": [
    "def isNodePresent(root,x):\n",
    "    if root == None:\n",
    "        return False\n",
    "    elif root.data == x:\n",
    "        return True\n",
    "    else:\n",
    "        return isNodePresent(root.left,x) or isNodePresent(root.right,x)"
   ]
  },
  {
   "cell_type": "markdown",
   "id": "9ae43a10",
   "metadata": {},
   "source": [
    "# Print all nodes without sibling in Binary Tree"
   ]
  },
  {
   "cell_type": "code",
   "execution_count": 18,
   "id": "39a14938",
   "metadata": {},
   "outputs": [],
   "source": [
    "def printNodesWithoutSibling(root):\n",
    "    if root == None:\n",
    "        return\n",
    "    \n",
    "    if root.left != None and root.right == None:\n",
    "        print(root.left.data,end=\" \")\n",
    "    elif root.left == None and root.right != None:\n",
    "        print(root.right.data,end=\" \")\n",
    "        \n",
    "    printNodesWithoutSibling(root.left)\n",
    "    printNodesWithoutSibling(root.right)"
   ]
  },
  {
   "cell_type": "markdown",
   "id": "37d8cfa7",
   "metadata": {},
   "source": [
    "# Remove leaf nodes of Binary Tree"
   ]
  },
  {
   "cell_type": "code",
   "execution_count": 19,
   "id": "ae6d4460",
   "metadata": {},
   "outputs": [],
   "source": [
    "def removeLeaves(root):\n",
    "    if root == None:\n",
    "        return None\n",
    "    if root.left == None and root.right == None:\n",
    "        return None\n",
    "    \n",
    "    root.left = removeLeaves(root.left)\n",
    "    root.right = removeLeaves(root.right)\n",
    "    \n",
    "    return root"
   ]
  },
  {
   "cell_type": "markdown",
   "id": "f9293bad",
   "metadata": {},
   "source": [
    "# Mirror Binary Tree\n",
    "\n",
    "For a given Binary Tree of type integer, update it with its corresponding mirror image."
   ]
  },
  {
   "cell_type": "code",
   "execution_count": 20,
   "id": "943912f4",
   "metadata": {},
   "outputs": [],
   "source": [
    "def mirrorBinaryTree(root):\n",
    "    if root == None:\n",
    "        return\n",
    "    if root.left == None and root.right == None:\n",
    "        return root\n",
    "    root.left,root.right = root.right,root.left\n",
    "    mirrorBinaryTree(root.left)\n",
    "    mirrorBinaryTree(root.right)"
   ]
  },
  {
   "cell_type": "markdown",
   "id": "02e8150b",
   "metadata": {},
   "source": [
    "# Check if Binary Tree is balanced or not"
   ]
  },
  {
   "cell_type": "code",
   "execution_count": 21,
   "id": "30cdd8cf",
   "metadata": {},
   "outputs": [],
   "source": [
    "def height(root):\n",
    "    if root == None:\n",
    "        return 0\n",
    "    return max(height(root.left),height(root.right))+1\n",
    "    \n",
    "def isBalanced(root):\n",
    "    if root == None:\n",
    "        return True\n",
    "    leftHeight = height(root.left)\n",
    "    rightHeight = height(root.right)\n",
    "    if leftHeight-rightHeight > 1 or rightHeight-leftHeight > 1:\n",
    "        return False\n",
    "    isLeftBalanced = isBalanced(root.left)\n",
    "    isRightBalanced = isBalanced(root.right)\n",
    "    if isLeftBalanced and isRightBalanced:\n",
    "        return True\n",
    "    else:\n",
    "        return False"
   ]
  },
  {
   "cell_type": "markdown",
   "id": "857981b5",
   "metadata": {},
   "source": [
    "# Check if Binary Tree is balanced or not (Improved)"
   ]
  },
  {
   "cell_type": "code",
   "execution_count": 22,
   "id": "be2c7922",
   "metadata": {},
   "outputs": [],
   "source": [
    "def getHeightAndIsBalanced(root):\n",
    "    if root == None:\n",
    "        return 0, True\n",
    "    \n",
    "    leftHeight, isLeftBalanced = getHeightAndIsBalanced(root.left)\n",
    "    rightHeight, isRightBalanced = getHeightAndIsBalanced(root.right)\n",
    "    \n",
    "    height = max(leftHeight,rightHeight) + 1\n",
    "    \n",
    "    if abs(leftHeight - rightHeight) > 1:\n",
    "        return height, False\n",
    "    if isLeftBalanced and isRightBalanced:\n",
    "        return height, True\n",
    "    else:\n",
    "        return height, False\n",
    "    \n",
    "def isBalancedImproved(root):\n",
    "    treeHeight, balanceStatus = getHeightAndIsBalanced(root)\n",
    "    return balanceStatus"
   ]
  },
  {
   "cell_type": "code",
   "execution_count": 23,
   "id": "627d33e9",
   "metadata": {},
   "outputs": [],
   "source": [
    "class Pair:\n",
    "    def __init__(self,diameter,height):\n",
    "        self.diameter = diameter\n",
    "        self.height = height\n",
    "\n",
    "def diameterHelper(root):\n",
    "    if root == None:\n",
    "        return Pair(0,0)\n",
    "    \n",
    "    leftPair = diameterHelper(root.left)\n",
    "    rightPair = diameterHelper(root.right)\n",
    "    \n",
    "    leftDiameter = leftPair.diameter\n",
    "    rightDiameter = rightPair.diameter\n",
    "    \n",
    "    diameterFromRoot = leftPair.height + rightPair.height + 1\n",
    "    diameter = max(leftDiameter,rightDiameter,diameterFromRoot)\n",
    "    height = max(leftPair.height,rightPair.height) + 1\n",
    "    \n",
    "    return Pair(diameter,height)\n",
    "\n",
    "def diameterOfBinaryTree(root) :\n",
    "    pair = diameterHelper(root)\n",
    "    return pair.diameter"
   ]
  },
  {
   "cell_type": "code",
   "execution_count": 24,
   "id": "d7bca9db",
   "metadata": {},
   "outputs": [],
   "source": [
    "import queue\n",
    "\n",
    "def takeLevelWiseTreeInput():\n",
    "    q = queue.Queue()\n",
    "    print(\"Enter root data\")\n",
    "    rootData = int(input())\n",
    "    if rootData == -1:\n",
    "        return None\n",
    "    root = BinaryTreeNode(rootData)\n",
    "    q.put(root)\n",
    "    \n",
    "    while not q.empty():\n",
    "        currentNode = q.get()\n",
    "        \n",
    "        print(\"Enter left child of {}\".format(currentNode.data))\n",
    "        leftChildData = int(input())\n",
    "        \n",
    "        print(\"Enter right child of {}\".format(currentNode.data))\n",
    "        rightChildData = int(input())\n",
    "        \n",
    "        if leftChildData != -1:\n",
    "            leftChild = BinaryTreeNode(leftChildData)\n",
    "            currentNode.left = leftChild\n",
    "            q.put(leftChild)\n",
    "            \n",
    "        if rightChildData != -1:\n",
    "            rightChild = BinaryTreeNode(rightChildData)\n",
    "            currentNode.right = rightChild\n",
    "            q.put(rightChild)\n",
    "            \n",
    "    return root"
   ]
  },
  {
   "cell_type": "code",
   "execution_count": 25,
   "id": "a6cd3aec",
   "metadata": {},
   "outputs": [],
   "source": [
    "def printLevelWise(root):\n",
    "    if root == None:\n",
    "        return\n",
    "    \n",
    "    q = queue.Queue()\n",
    "    q.put(root)\n",
    "    \n",
    "    while not q.empty():\n",
    "        currentNode = q.get()\n",
    "        print(currentNode.data,end=\":\")\n",
    "        \n",
    "        if currentNode.left != None:\n",
    "            print(\"L:{}\".format(currentNode.left.data),end=\",\")\n",
    "            q.put(currentNode.left)\n",
    "        else:\n",
    "            print(\"L:-1\",end=\",\")\n",
    "\n",
    "        if currentNode.right != None:\n",
    "            print(\"R:{}\".format(currentNode.right.data))\n",
    "            q.put(currentNode.right)\n",
    "        else:\n",
    "            print(\"R:-1\")"
   ]
  },
  {
   "cell_type": "markdown",
   "id": "5be243fb",
   "metadata": {},
   "source": [
    "# Construct Binary Tree using Inorder and Preorder"
   ]
  },
  {
   "cell_type": "code",
   "execution_count": 26,
   "id": "d5532620",
   "metadata": {},
   "outputs": [],
   "source": [
    "def buildTree(preOrder, inOrder, n):\n",
    "    if len(preOrder) == 0 or len(inOrder) == 0:\n",
    "        return None\n",
    "    \n",
    "    rootData = preOrder[0]\n",
    "    root = BinaryTreeNode(rootData)\n",
    "    \n",
    "    rootIndex = inOrder.index(rootData)\n",
    "    \n",
    "    leftSubTree = buildTree(preOrder[1:rootIndex+1], inOrder[0:rootIndex], n)\n",
    "    rightSubTree = buildTree(preOrder[rootIndex+1:], inOrder[rootIndex+1:], n)\n",
    "    \n",
    "    root.left = leftSubTree\n",
    "    root.right = rightSubTree\n",
    "    \n",
    "    return root"
   ]
  },
  {
   "cell_type": "markdown",
   "id": "c9e3de5d",
   "metadata": {},
   "source": [
    "# Construct Binary Tree using Inorder and PostOrder"
   ]
  },
  {
   "cell_type": "code",
   "execution_count": 27,
   "id": "f1d714ce",
   "metadata": {},
   "outputs": [],
   "source": [
    "def buildTree(postOrder, inOrder, n):\n",
    "    if len(postOrder) == 0 or len(inOrder) == 0:\n",
    "        return None\n",
    "    \n",
    "    rootData = postOrder[-1]\n",
    "    root = BinaryTreeNode(rootData)\n",
    "    \n",
    "    rootIndex = inOrder.index(rootData)\n",
    "    \n",
    "    leftSubTree = buildTree(postOrder[0:rootIndex], inOrder[0:rootIndex], n)\n",
    "    rightSubTree = buildTree(postOrder[rootIndex:-1], inOrder[rootIndex+1:], n)\n",
    "    \n",
    "    root.left = leftSubTree\n",
    "    root.right = rightSubTree\n",
    "    \n",
    "    return root"
   ]
  },
  {
   "cell_type": "markdown",
   "id": "50fa67f5",
   "metadata": {},
   "source": [
    "# Create & Insert Duplicate Node\n",
    "\n",
    "For a given a Binary Tree of type integer, duplicate every node of the tree and attach it to the left of itself.\n",
    "The root will remain the same. So you just need to insert nodes in the given Binary Tree."
   ]
  },
  {
   "cell_type": "code",
   "execution_count": 28,
   "id": "52e55339",
   "metadata": {},
   "outputs": [],
   "source": [
    "def insertDuplicateNode(root):\n",
    "    if root == None:\n",
    "        return None\n",
    "\n",
    "    leftSubTree = insertDuplicateNode(root.left)\n",
    "    rightSubTree = insertDuplicateNode(root.right)\n",
    "    \n",
    "    root.left = BinaryTreeNode(root.data)\n",
    "    root.left.left = leftSubTree\n",
    "    root.right = rightSubTree\n",
    "    \n",
    "    return root"
   ]
  },
  {
   "cell_type": "code",
   "execution_count": 29,
   "id": "ce791fa1",
   "metadata": {},
   "outputs": [],
   "source": [
    "import sys\n",
    "\n",
    "class MinMaxPair:\n",
    "    def __init__(self, minimum, maximum):\n",
    "        self.minimum = minimum\n",
    "        self.maximum = maximum\n",
    "\n",
    "\n",
    "def getMinAndMax(root):\n",
    "    if root == None:\n",
    "        return MinMaxPair(sys.maxsize,-sys.maxsize)\n",
    "    \n",
    "    leftSubTreeMinMax = getMinAndMax(root.left)\n",
    "    rightSubTreeMinMax = getMinAndMax(root.right)\n",
    "    \n",
    "    minimum = min(leftSubTreeMinMax.minimum,rightSubTreeMinMax.minimum,root.data)\n",
    "    maximum = max(leftSubTreeMinMax.maximum,rightSubTreeMinMax.maximum,root.data)\n",
    "    \n",
    "    return MinMaxPair(minimum,maximum)"
   ]
  },
  {
   "cell_type": "markdown",
   "id": "3a279722",
   "metadata": {},
   "source": [
    "# Print using level order traversal"
   ]
  },
  {
   "cell_type": "code",
   "execution_count": 30,
   "id": "9d260f5d",
   "metadata": {},
   "outputs": [],
   "source": [
    "def printLevelWise(root):\n",
    "    if root is None :\n",
    "        return\n",
    "\n",
    "    pendingNodes = queue.Queue()\n",
    "    pendingNodes.put(root)\n",
    "    pendingNodes.put(None)\n",
    "\n",
    "    while not pendingNodes.empty(): \n",
    "        frontNode = pendingNodes.get()\n",
    "    \n",
    "        if frontNode is None :\n",
    "            print()\n",
    "            \n",
    "            if not pendingNodes.empty() :\n",
    "                pendingNodes.put(None)\n",
    "                \n",
    "        else :\n",
    "            print(frontNode.data, end = \" \")\n",
    "            \n",
    "            if frontNode.left is not None :\n",
    "                pendingNodes.put(frontNode.left)\n",
    "                \n",
    "                \n",
    "            if frontNode.right is not None :\n",
    "                pendingNodes.put(frontNode.right) "
   ]
  },
  {
   "cell_type": "markdown",
   "id": "549c9bfe",
   "metadata": {},
   "source": [
    "# Path sum root to leaf\n",
    "\n",
    "For a given Binary Tree of type integer and a number K, print out all root-to-leaf paths where the sum of all the node data along the path is equal to K."
   ]
  },
  {
   "cell_type": "code",
   "execution_count": 31,
   "id": "b300eeb3",
   "metadata": {},
   "outputs": [],
   "source": [
    "def rootToLeafPathsSumToK(root, k, path=\"\", currSum=0):\n",
    "    if root is None :\n",
    "        return\n",
    "\n",
    "    if (root.left is None) and (root.right is None) :\n",
    "        currSum += root.data\n",
    "\n",
    "        if currSum == k :\n",
    "            print(str(path + str(root.data) + \" \"))\n",
    "\n",
    "        return\n",
    "\n",
    "\n",
    "    rootToLeafPathsSumToK(root.left, k, path + str(root.data) + \" \", currSum + root.data)\n",
    "    rootToLeafPathsSumToK(root.right, k, path + str(root.data) + \" \", currSum + root.data)"
   ]
  },
  {
   "cell_type": "markdown",
   "id": "956f3615",
   "metadata": {},
   "source": [
    "# Print nodes at distance k from node\n",
    "\n",
    "You are given a Binary Tree of type integer, a target node, and an integer value K. Print the data of all nodes that have a distance K from the target node. The order in which they would be printed will not matter."
   ]
  },
  {
   "cell_type": "code",
   "execution_count": 32,
   "id": "58d109ec",
   "metadata": {},
   "outputs": [],
   "source": [
    "def nodesAtDistanceKHelper(root, target, k):\n",
    "    if root is None :\n",
    "        return -1\n",
    "\n",
    "\n",
    "    if root.data == target :\n",
    "        nodesAtDistanceKDown(root, k)\n",
    "        return 0\n",
    "\n",
    "\n",
    "    leftD = nodesAtDistanceKHelper(root.left, target, k)\n",
    "    if leftD != -1 :\n",
    "        if (leftD + 1) == k :\n",
    "            print(root.data)\n",
    "        else :\n",
    "            nodesAtDistanceKDown(root.right, k - leftD - 2)\n",
    "    \n",
    "\n",
    "        return 1 + leftD\n",
    "\n",
    "\n",
    "    rightD = nodesAtDistanceKHelper(root.right, target, k);\n",
    "    if rightD != -1 :\n",
    "        if (rightD + 1) == k :\n",
    "            print(root.data)\n",
    "        else :\n",
    "            nodesAtDistanceKDown(root.left, k - rightD - 2)\n",
    "\n",
    "\n",
    "        return 1 + rightD\n",
    "\n",
    "    return -1\n",
    "\n",
    "\n",
    "def nodesAtDistanceKDown(root, k):\n",
    "    if root is None : \n",
    "        return\n",
    "\n",
    "    if k == 0 :\n",
    "        print(root.data)\n",
    "        return\n",
    "\n",
    "    \n",
    "    nodesAtDistanceKDown(root.left, k - 1)\n",
    "    nodesAtDistanceKDown(root.right, k - 1)\n",
    "\n",
    "\n",
    "def nodesAtDistanceK(root, node, k):\n",
    "    nodesAtDistanceKHelper(root, node, k)"
   ]
  },
  {
   "cell_type": "markdown",
   "id": "7b588cff",
   "metadata": {},
   "source": [
    "# Longest leaf to root path"
   ]
  },
  {
   "cell_type": "code",
   "execution_count": 33,
   "id": "09b67875",
   "metadata": {},
   "outputs": [],
   "source": [
    "def longestPath(root):\n",
    "    if (root == None):\n",
    "        return []\n",
    "\n",
    "    rightPath = longestPath(root.right)\n",
    "    leftPath = longestPath(root.left)\n",
    "\n",
    "    if (len(leftPath) > len(rightPath)):\n",
    "        leftPath.append(root.data)\n",
    "        return leftPath\n",
    "    else:\n",
    "        rightPath.append(root.data)\n",
    "        return rightPath"
   ]
  },
  {
   "cell_type": "markdown",
   "id": "0c0df479",
   "metadata": {},
   "source": [
    "# Check cousins"
   ]
  },
  {
   "cell_type": "code",
   "execution_count": 34,
   "id": "8a60c602",
   "metadata": {},
   "outputs": [],
   "source": [
    "def isSibling(root, a , b):\n",
    "    if root.left is None or root.right is None:\n",
    "        return False\n",
    "    if (root.left.data == a and root.right.data == b) or (root.left.data == b and root.right.data == a):\n",
    "        return True\n",
    "    \n",
    "    if isSibling(root.left, a, b) or isSibling(root.right, a, b):\n",
    "        return True\n",
    "    return False\n",
    "\n",
    "def getLevel(node, data, level=1):\n",
    "    if node == None:\n",
    "        return 0\n",
    " \n",
    "    if node.data == data:\n",
    "        return level\n",
    " \n",
    "    downLevel = getLevel(node.left, data, level + 1)\n",
    "    \n",
    "    if downLevel != 0:\n",
    "        return downLevel\n",
    " \n",
    "    downLevel = getLevel(node.right, data, level + 1)\n",
    "    return downLevel\n",
    "   \n",
    "def checkCousins(root,a, b):\n",
    "    if ((getLevel(root,a) == getLevel(root, b)) and not (isSibling(root, a, b))):\n",
    "        return True\n",
    "    else:\n",
    "        return False"
   ]
  }
 ],
 "metadata": {
  "kernelspec": {
   "display_name": "Python 3 (ipykernel)",
   "language": "python",
   "name": "python3"
  },
  "language_info": {
   "codemirror_mode": {
    "name": "ipython",
    "version": 3
   },
   "file_extension": ".py",
   "mimetype": "text/x-python",
   "name": "python",
   "nbconvert_exporter": "python",
   "pygments_lexer": "ipython3",
   "version": "3.9.12"
  }
 },
 "nbformat": 4,
 "nbformat_minor": 5
}

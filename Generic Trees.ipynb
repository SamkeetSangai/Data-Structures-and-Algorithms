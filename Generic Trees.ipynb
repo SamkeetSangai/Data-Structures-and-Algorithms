{
 "cells": [
  {
   "cell_type": "markdown",
   "id": "badce2e6",
   "metadata": {},
   "source": [
    "# Generic Tree Class"
   ]
  },
  {
   "cell_type": "code",
   "execution_count": 17,
   "id": "acd3b7ca",
   "metadata": {},
   "outputs": [],
   "source": [
    "class treeNode:\n",
    "    def __init__(self,data):\n",
    "        self.data = data\n",
    "        self.children = list()"
   ]
  },
  {
   "cell_type": "markdown",
   "id": "361541ef",
   "metadata": {},
   "source": [
    "# Print Tree (Recursively)"
   ]
  },
  {
   "cell_type": "code",
   "execution_count": 18,
   "id": "306284b7",
   "metadata": {},
   "outputs": [],
   "source": [
    "def printTree(root):\n",
    "    if root == None:\n",
    "        return\n",
    "    \n",
    "    print(root.data)\n",
    "    for child in root.children:\n",
    "        printTree(child)"
   ]
  },
  {
   "cell_type": "markdown",
   "id": "be1f7053",
   "metadata": {},
   "source": [
    "# Print Tree detailed"
   ]
  },
  {
   "cell_type": "code",
   "execution_count": 19,
   "id": "0f081ffb",
   "metadata": {},
   "outputs": [],
   "source": [
    "def printTreeDetailed(root):\n",
    "    if root == None:\n",
    "        return\n",
    "    \n",
    "    print(root.data,end=\": \")\n",
    "    n = len(root.children)\n",
    "    for i in range(n):\n",
    "        child = root.children[i]\n",
    "        if i < n-1:\n",
    "            print(child.data,end=\",\")\n",
    "        else:\n",
    "            print(child.data,end=\"\") # Last children should not have comma\n",
    "    print()\n",
    "    \n",
    "    for child in root.children:\n",
    "        printTreeDetailed(child)"
   ]
  },
  {
   "cell_type": "markdown",
   "id": "8c4f2c62",
   "metadata": {},
   "source": [
    "# Take Tree input (Recursively)"
   ]
  },
  {
   "cell_type": "code",
   "execution_count": 20,
   "id": "2551ab27",
   "metadata": {},
   "outputs": [],
   "source": [
    "def takeTreeInput():\n",
    "    print(\"Enter root data\")\n",
    "    rootData = int(input())\n",
    "    if rootData == -1:\n",
    "        return None\n",
    "    \n",
    "    root = treeNode(rootData)\n",
    "    print(\"Enter number of children for\", rootData)\n",
    "    ChildrenCount = int(input())\n",
    "    for i in range(ChildrenCount):\n",
    "        child = takeTreeInput()\n",
    "        root.children.append(child)\n",
    "        \n",
    "    return root"
   ]
  },
  {
   "cell_type": "markdown",
   "id": "cf8e5b74",
   "metadata": {},
   "source": [
    "# Number Of nodes in Tree"
   ]
  },
  {
   "cell_type": "code",
   "execution_count": 21,
   "id": "d0d1f76f",
   "metadata": {},
   "outputs": [],
   "source": [
    "def numNodes(root):\n",
    "    if root == None:\n",
    "        return 0\n",
    "    count = 1\n",
    "    for child in root.children:\n",
    "        count+=numNodes(child)\n",
    "    return count"
   ]
  },
  {
   "cell_type": "markdown",
   "id": "84e6e8f9",
   "metadata": {},
   "source": [
    "# Sum of all nodes"
   ]
  },
  {
   "cell_type": "code",
   "execution_count": 22,
   "id": "cd5fa857",
   "metadata": {},
   "outputs": [],
   "source": [
    "def sumOfAllNodes(root):\n",
    "    if root == None:\n",
    "        return 0\n",
    "    \n",
    "    sum = root.data\n",
    "    for child in root.children:\n",
    "        sum+=sumOfAllNodes(child)\n",
    "    return sum"
   ]
  },
  {
   "cell_type": "markdown",
   "id": "f685a402",
   "metadata": {},
   "source": [
    "# Node with largest data"
   ]
  },
  {
   "cell_type": "code",
   "execution_count": 23,
   "id": "03f5ad78",
   "metadata": {},
   "outputs": [],
   "source": [
    "def maxDataNode(root):\n",
    "    if root == None:\n",
    "        return None\n",
    "    maxNode = root\n",
    "    for child in root.children:\n",
    "        childMaxNode = maxDataNode(child)\n",
    "        if childMaxNode.data > maxNode.data:\n",
    "            maxNode = childMaxNode\n",
    "    return maxNode"
   ]
  },
  {
   "cell_type": "markdown",
   "id": "6d616ced",
   "metadata": {},
   "source": [
    "# Height of Tree"
   ]
  },
  {
   "cell_type": "code",
   "execution_count": 24,
   "id": "dc0a21ad",
   "metadata": {},
   "outputs": [],
   "source": [
    "def treeHeight(root):\n",
    "    if root == None :\n",
    "        return 0\n",
    "    h = 0\n",
    "    for child in root.children :\n",
    "        childHeight = treeHeight(child) \n",
    "        if childHeight > h :\n",
    "            h = childHeight\n",
    "    return h+1"
   ]
  },
  {
   "cell_type": "markdown",
   "id": "dc538e95",
   "metadata": {},
   "source": [
    "# Tree input levelwise"
   ]
  },
  {
   "cell_type": "code",
   "execution_count": 25,
   "id": "f6806ee1",
   "metadata": {},
   "outputs": [],
   "source": [
    "import queue\n",
    "\n",
    "def takeTreeInputLevelWise():\n",
    "    q = queue.Queue()\n",
    "    print(\"Enter root\")\n",
    "    rootData = int(input())\n",
    "    if rootData == -1:\n",
    "        return None\n",
    "    root = TreeNode(rootData)\n",
    "    q.put(root)\n",
    "    while not q.empty():\n",
    "        current_node = q.get()\n",
    "        print(\"Enter num of children for\",current_node.data)\n",
    "        numChildren = int(input())\n",
    "        for i in range(numChildren):\n",
    "            print(\"Enter next child for\",current_node.data)\n",
    "            childData = int(input())\n",
    "            child = TreeNode(childData)\n",
    "            current_node.children.append(child)\n",
    "            q.put(child)\n",
    "    return root"
   ]
  },
  {
   "cell_type": "markdown",
   "id": "547de47b",
   "metadata": {},
   "source": [
    "# Print levelwise"
   ]
  },
  {
   "cell_type": "code",
   "execution_count": 26,
   "id": "0e7f5bc6",
   "metadata": {},
   "outputs": [],
   "source": [
    "import queue\n",
    "\n",
    "def printLevelWiseTree(root):\n",
    "    if root == None:\n",
    "        return\n",
    "    \n",
    "    q = queue.Queue()\n",
    "    q.put(root)\n",
    "    while not q.empty():\n",
    "        currentNode = q.get()\n",
    "        print(currentNode.data,end=':')\n",
    "        n = len(currentNode.children)\n",
    "        for i in range(n):\n",
    "            child = currentNode.children[i]\n",
    "            if i < n-1:\n",
    "                print(child.data,end=',')\n",
    "            else:\n",
    "                print(child.data,end='')\n",
    "            q.put(child)\n",
    "        print()\n",
    "    return"
   ]
  },
  {
   "cell_type": "markdown",
   "id": "d3d2c7c5",
   "metadata": {},
   "source": [
    "# Contains x"
   ]
  },
  {
   "cell_type": "code",
   "execution_count": 27,
   "id": "3292bd6a",
   "metadata": {},
   "outputs": [],
   "source": [
    "def containsX(root, x):\n",
    "    if root == None:\n",
    "        return False\n",
    "    if root.data == x:\n",
    "        return True\n",
    "    for child in root.children:\n",
    "        if containsX(child, x):\n",
    "            return True\n",
    "    return False"
   ]
  },
  {
   "cell_type": "markdown",
   "id": "a50662e2",
   "metadata": {},
   "source": [
    "# Count leaf nodes"
   ]
  },
  {
   "cell_type": "code",
   "execution_count": 28,
   "id": "c1dd6f88",
   "metadata": {},
   "outputs": [],
   "source": [
    "def leafNodeCount(root):\n",
    "    if root == None:\n",
    "        return 0\n",
    "    leafNodes = 0\n",
    "    if len(root.children) == 0:\n",
    "        leafNodes = 1\n",
    "    for child in root.children:\n",
    "        leafNodes+=leafNodeCount(child)\n",
    "    return leafNodes"
   ]
  },
  {
   "cell_type": "markdown",
   "id": "7e419bb7",
   "metadata": {},
   "source": [
    "# Node with maximum child sum"
   ]
  },
  {
   "cell_type": "code",
   "execution_count": 29,
   "id": "41d09dd2",
   "metadata": {},
   "outputs": [],
   "source": [
    "def maxSumNode(root):\n",
    "    if root == None:\n",
    "        return None\n",
    "    \n",
    "    maxNodeSum = root\n",
    "    maxSum = root.data\n",
    "    for child in root.children:\n",
    "        maxSum+=child.data\n",
    "        \n",
    "    for child in root.children:\n",
    "        childMaxSumNode, childMaxSum = maxSumNode(child)\n",
    "        if childMaxSum > maxSum:\n",
    "            maxNodeSum = childMaxSumNode\n",
    "            maxSum = childMaxSum\n",
    "            \n",
    "    return maxNodeSum,maxSum"
   ]
  },
  {
   "cell_type": "markdown",
   "id": "c60fb102",
   "metadata": {},
   "source": [
    "# Structurally identical"
   ]
  },
  {
   "cell_type": "code",
   "execution_count": 30,
   "id": "5a521f67",
   "metadata": {},
   "outputs": [],
   "source": [
    "def isIdentical(tree1, tree2):\n",
    "    if not tree1:\n",
    "        if not tree2:\n",
    "            return True\n",
    "        return False\n",
    "    if (tree1.data != tree2.data) or len(tree1.children) != len(tree2.children):\n",
    "        return False\n",
    "    for child1, child2 in zip(tree1.children, tree2.children):\n",
    "        if not isIdentical(child1, child2):\n",
    "            return False\n",
    "    return True"
   ]
  },
  {
   "cell_type": "markdown",
   "id": "5cca8418",
   "metadata": {},
   "source": [
    "# Next larger"
   ]
  },
  {
   "cell_type": "code",
   "execution_count": 31,
   "id": "6fecdf2c",
   "metadata": {},
   "outputs": [],
   "source": [
    "def nextLargest(root, n):\n",
    "    if root == None:\n",
    "        return None\n",
    "\n",
    "    nextLargerValueNode = None\n",
    "    if root.data > n :\n",
    "        nextLargerValueNode = root\n",
    "    for child in root.children :\n",
    "        childLargerValueNode = nextLargest(child, n)\n",
    "        if childLargerValueNode:\n",
    "            if nextLargerValueNode == None or nextLargerValueNode.data > childLargerValueNode.data :\n",
    "                nextLargerValueNode = childLargerValueNode\n",
    "                \n",
    "    return nextLargerValueNode"
   ]
  },
  {
   "cell_type": "markdown",
   "id": "8b591f6a",
   "metadata": {},
   "source": [
    "# Replace with depth"
   ]
  },
  {
   "cell_type": "code",
   "execution_count": 32,
   "id": "2fcf32a7",
   "metadata": {},
   "outputs": [],
   "source": [
    "def replacewithDepthHelper(root,depth=0):\n",
    "    root.data = depth\n",
    "    for child in root.children:\n",
    "        replacewithDepthHelper(child,depth+1)\n",
    "        \n",
    "    return root\n",
    "\n",
    "def replacewithDepth(root):\n",
    "    if root == None:\n",
    "        return\n",
    "\n",
    "    return replacewithDepthHelper(root,depth=0)"
   ]
  },
  {
   "cell_type": "markdown",
   "id": "bb680b38",
   "metadata": {},
   "source": [
    "# Remove leaf nodes"
   ]
  },
  {
   "cell_type": "code",
   "execution_count": 33,
   "id": "33ac4dec",
   "metadata": {},
   "outputs": [],
   "source": [
    "def removeLeafNodes(root):\n",
    "    if root == None:\n",
    "        return None\n",
    "    \n",
    "    if len(root.children) == 0:\n",
    "        return None \n",
    "\n",
    "    i = 0\n",
    "    while i < len(root.children):\n",
    "        child = root.children[i]\n",
    "\n",
    "        if (len(child.children) == 0):\n",
    "            del root.children[i]\n",
    "            i -= 1\n",
    "        i += 1\n",
    "\n",
    "    for i in range(len(root.children)):\n",
    "        root.children[i] = removeLeafNodes(root.children[i])\n",
    "        \n",
    "    return root"
   ]
  }
 ],
 "metadata": {
  "kernelspec": {
   "display_name": "Python 3 (ipykernel)",
   "language": "python",
   "name": "python3"
  },
  "language_info": {
   "codemirror_mode": {
    "name": "ipython",
    "version": 3
   },
   "file_extension": ".py",
   "mimetype": "text/x-python",
   "name": "python",
   "nbconvert_exporter": "python",
   "pygments_lexer": "ipython3",
   "version": "3.9.12"
  }
 },
 "nbformat": 4,
 "nbformat_minor": 5
}

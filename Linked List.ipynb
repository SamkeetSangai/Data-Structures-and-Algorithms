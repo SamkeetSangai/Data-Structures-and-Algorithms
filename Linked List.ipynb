{
 "cells": [
  {
   "cell_type": "markdown",
   "id": "1597176c",
   "metadata": {},
   "source": [
    "# Linked List Class"
   ]
  },
  {
   "cell_type": "code",
   "execution_count": 2,
   "id": "ba15a2b9",
   "metadata": {},
   "outputs": [],
   "source": [
    "class Node:\n",
    "    def __init__(self,data):\n",
    "        self.data=data\n",
    "        self.next=None"
   ]
  },
  {
   "cell_type": "markdown",
   "id": "9ccc091a",
   "metadata": {},
   "source": [
    "# Take input for Linked List"
   ]
  },
  {
   "cell_type": "code",
   "execution_count": 3,
   "id": "1e64fb61",
   "metadata": {},
   "outputs": [],
   "source": [
    "def takeInput():\n",
    "    inputList = [int(x) for x in input().split()] \n",
    "    head = None\n",
    "    tail = None\n",
    "    for currData in inputList:\n",
    "        if currData == -1:\n",
    "            break\n",
    "        newNode = Node(currData)\n",
    "        if head == None:\n",
    "            head = newNode\n",
    "            tail = newNode\n",
    "        else:\n",
    "            tail.next = newNode\n",
    "            tail = tail.next\n",
    "    return head"
   ]
  },
  {
   "cell_type": "markdown",
   "id": "5ffdb7b7",
   "metadata": {},
   "source": [
    "# Print Linked List"
   ]
  },
  {
   "cell_type": "code",
   "execution_count": 4,
   "id": "3052e7ee",
   "metadata": {},
   "outputs": [],
   "source": [
    "def printLL(head):\n",
    "    if head is None:\n",
    "        return\n",
    "\n",
    "    while head is not None:\n",
    "        print(head.data,'-->',end=' ')\n",
    "        head = head.next\n",
    "    print('None')\n",
    "    \n",
    "    return"
   ]
  },
  {
   "cell_type": "markdown",
   "id": "e2c53725",
   "metadata": {},
   "source": [
    "# Length of Linked List"
   ]
  },
  {
   "cell_type": "code",
   "execution_count": 5,
   "id": "b5feacdf",
   "metadata": {},
   "outputs": [],
   "source": [
    "def length(head):\n",
    "    if head is None:\n",
    "        return 0\n",
    "\n",
    "    lengthLL = 0\n",
    "    while head is not None:\n",
    "        lengthLL+=1\n",
    "        head = head.next\n",
    "\n",
    "    return lengthLL"
   ]
  },
  {
   "cell_type": "markdown",
   "id": "eb6aa7cb",
   "metadata": {},
   "source": [
    "# Print ith node of Linked List"
   ]
  },
  {
   "cell_type": "code",
   "execution_count": 6,
   "id": "c0d6c872",
   "metadata": {},
   "outputs": [],
   "source": [
    "def printIthNode(head, i):\n",
    "    nodeNumber = 0\n",
    "    while head is not None:\n",
    "        if nodeNumber == i:\n",
    "            print(head.data)\n",
    "        nodeNumber+=1\n",
    "        head = head.next\n",
    "\n",
    "    return"
   ]
  },
  {
   "cell_type": "markdown",
   "id": "79775f2d",
   "metadata": {},
   "source": [
    "# Insert node at ith position in Linked List"
   ]
  },
  {
   "cell_type": "code",
   "execution_count": 7,
   "id": "192d3a97",
   "metadata": {},
   "outputs": [],
   "source": [
    "def insertAtI(head,i,data):\n",
    "    \n",
    "    if i < 0 or i > length(head):\n",
    "        return head\n",
    "    \n",
    "    count = 0\n",
    "    prev = None\n",
    "    curr = head\n",
    "    \n",
    "    while count < i:\n",
    "        prev = curr\n",
    "        curr = curr.next\n",
    "        count+=1\n",
    "        \n",
    "    newNode = Node(data)\n",
    "    \n",
    "    if prev is not None:\n",
    "        prev.next = newNode\n",
    "    else:\n",
    "        head = newNode\n",
    "        \n",
    "    newNode.next = curr\n",
    "    return head"
   ]
  },
  {
   "cell_type": "markdown",
   "id": "1b304481",
   "metadata": {},
   "source": [
    "# Delete node at ith position in Linked List"
   ]
  },
  {
   "cell_type": "code",
   "execution_count": 8,
   "id": "ecbb1d89",
   "metadata": {},
   "outputs": [],
   "source": [
    "def deleteNode(head, pos):\n",
    "    if head is None:\n",
    "        return head\n",
    "    if pos == 0:\n",
    "        return head.next\n",
    "\n",
    "    index = 0\n",
    "    curr = head\n",
    "    while curr is not None and index < (pos-1):\n",
    "        curr = curr.next\n",
    "        index+=1\n",
    "\n",
    "    if curr is None or curr.next is None:\n",
    "        return head\n",
    "\n",
    "    curr.next = curr.next.next\n",
    "\n",
    "    return head"
   ]
  },
  {
   "cell_type": "markdown",
   "id": "2577e8d7",
   "metadata": {},
   "source": [
    "# Length of Linked List (Recursive)"
   ]
  },
  {
   "cell_type": "code",
   "execution_count": 9,
   "id": "0008cb3a",
   "metadata": {},
   "outputs": [],
   "source": [
    "def lengthRecursive(head):\n",
    "    if head == None:\n",
    "        return 0\n",
    "\n",
    "    return lengthRecursive(head.next) + 1"
   ]
  },
  {
   "cell_type": "markdown",
   "id": "347f9fcd",
   "metadata": {},
   "source": [
    "# Insert node at ith position in Linked List (Recursive)"
   ]
  },
  {
   "cell_type": "code",
   "execution_count": 10,
   "id": "b953a0c9",
   "metadata": {},
   "outputs": [],
   "source": [
    "def insertAtIR(head,i,data):\n",
    "    if i < 0:\n",
    "        return head\n",
    "    if i == 0:\n",
    "        newNode = Node(data)\n",
    "        newNode.next = head\n",
    "        return newNode\n",
    "    \n",
    "    if head is None:\n",
    "        return None\n",
    "    \n",
    "    smallHead = insertAtIR(head.next, i-1, data)\n",
    "    head.next = smallHead\n",
    "    return head"
   ]
  },
  {
   "cell_type": "markdown",
   "id": "f6049bde",
   "metadata": {},
   "source": [
    "# Delete node at ith position in Linked List (Recursive)"
   ]
  },
  {
   "cell_type": "code",
   "execution_count": 11,
   "id": "a25035f5",
   "metadata": {},
   "outputs": [],
   "source": [
    "def deleteNodeRec(head, pos):\n",
    "    if head is None or pos < 0:\n",
    "        return None\n",
    "    if pos == 0:\n",
    "        return head.next\n",
    "\n",
    "    smallOutput = deleteNodeRec(head.next, pos-1)\n",
    "    head.next = smallOutput\n",
    "    return head"
   ]
  },
  {
   "cell_type": "markdown",
   "id": "f43ac4fd",
   "metadata": {},
   "source": [
    "# Find a node in Linked List"
   ]
  },
  {
   "cell_type": "code",
   "execution_count": 12,
   "id": "fd38097b",
   "metadata": {},
   "outputs": [],
   "source": [
    "def findNode(head, n, index=0):\n",
    "    if head is None:\n",
    "        return -1\n",
    "\n",
    "    if head.data == n:\n",
    "        return index\n",
    "\n",
    "    return findNode(head.next, n, index+1)"
   ]
  },
  {
   "cell_type": "markdown",
   "id": "34eff88c",
   "metadata": {},
   "source": [
    "# Append last n to first in Linked List\n",
    "\n",
    "You have been given a singly linked list of integers along with an integer 'N'. Write a function to append the last 'N' nodes towards the front of the singly linked list and returns the new head to the list."
   ]
  },
  {
   "cell_type": "code",
   "execution_count": 13,
   "id": "c467572b",
   "metadata": {},
   "outputs": [],
   "source": [
    "def appendLastNToFirst(head, n):\n",
    "    if n == 0 or head is None:\n",
    "        return head\n",
    "\n",
    "    fast = head\n",
    "    slow = head\n",
    "    initialHead = head\n",
    "\n",
    "    for i in range(n):\n",
    "        fast = fast.next\n",
    "\n",
    "    while fast.next is not None:\n",
    "        slow = slow.next\n",
    "        fast = fast.next\n",
    "\n",
    "    temp = slow.next\n",
    "    slow.next = None\n",
    "    fast.next = initialHead\n",
    "    head = temp\n",
    "\n",
    "    return head"
   ]
  },
  {
   "cell_type": "markdown",
   "id": "16219602",
   "metadata": {},
   "source": [
    "# Eliminate duplicates from Linked List"
   ]
  },
  {
   "cell_type": "code",
   "execution_count": 14,
   "id": "b79b6752",
   "metadata": {},
   "outputs": [],
   "source": [
    "def removeDuplicates(head):\n",
    "    if head is None:\n",
    "        return head\n",
    "\n",
    "    curr = head\n",
    "    hold = head\n",
    "    while curr is not None:\n",
    "        if curr.data != hold.data:\n",
    "            hold.next = curr\n",
    "            hold = hold.next\n",
    "\n",
    "        if curr.next is None and curr.data == hold.data:\n",
    "            hold.next = None\n",
    "            break\n",
    "\n",
    "        curr = curr.next\n",
    "\n",
    "    return head"
   ]
  },
  {
   "cell_type": "markdown",
   "id": "b00e75cb",
   "metadata": {},
   "source": [
    "# Print Reverse Linked List"
   ]
  },
  {
   "cell_type": "code",
   "execution_count": 15,
   "id": "9c04d9f6",
   "metadata": {},
   "outputs": [],
   "source": [
    "def printReverse(head):\n",
    "    if head is None:\n",
    "        return head\n",
    "\n",
    "    printReverse(head.next)\n",
    "    print(head.data,end=' ')"
   ]
  },
  {
   "cell_type": "markdown",
   "id": "49c0f44b",
   "metadata": {},
   "source": [
    "# Palindrome Linked List"
   ]
  },
  {
   "cell_type": "code",
   "execution_count": 16,
   "id": "b8d289c6",
   "metadata": {},
   "outputs": [],
   "source": [
    "def reverseLinkedList(head):\n",
    "    if head is None or head.next is None:\n",
    "        return head\n",
    "\n",
    "    curr = head\n",
    "    prev = None\n",
    "    fwd = None\n",
    "\n",
    "    while curr is not None:\n",
    "        fwd = curr.next\n",
    "        curr.next = prev\n",
    "        prev = curr\n",
    "        curr = fwd\n",
    "\n",
    "    return prev\n",
    "    \n",
    "\n",
    "def isPalindrome(head):\n",
    "    if head is None or head.next is None:\n",
    "        return True\n",
    "\n",
    "    slow = head\n",
    "    fast = head\n",
    "\n",
    "    while fast.next is not None and fast.next.next is not None:\n",
    "        fast = fast.next.next\n",
    "        slow = slow.next\n",
    "\n",
    "    secondHalfHead = slow.next\n",
    "    slow.next = None\n",
    "    secondHalfHead = reverseLinkedList(secondHalfHead)\n",
    "\n",
    "    while secondHalfHead is not None:\n",
    "        if head.data != secondHalfHead.data:\n",
    "            return False\n",
    "\n",
    "        secondHalfHead = secondHalfHead.next\n",
    "        head = head.next\n",
    "\n",
    "    return True"
   ]
  },
  {
   "cell_type": "markdown",
   "id": "30dd549a",
   "metadata": {},
   "source": [
    "# Delete alternate nodes"
   ]
  },
  {
   "cell_type": "code",
   "execution_count": 17,
   "id": "3d6edc5c",
   "metadata": {},
   "outputs": [],
   "source": [
    "class Node :\n",
    "    def __init__(self, data) :\n",
    "        self.data = data\n",
    "        self.next = None\n",
    "\n",
    "\n",
    "def deleteAlternateNodes(head):\n",
    "    if head is None:\n",
    "        return head\n",
    "\n",
    "    curr = head\n",
    "    while curr is not None and curr.next is not None:\n",
    "        curr.next = curr.next.next\n",
    "        curr = curr.next"
   ]
  }
 ],
 "metadata": {
  "kernelspec": {
   "display_name": "Python 3 (ipykernel)",
   "language": "python",
   "name": "python3"
  },
  "language_info": {
   "codemirror_mode": {
    "name": "ipython",
    "version": 3
   },
   "file_extension": ".py",
   "mimetype": "text/x-python",
   "name": "python",
   "nbconvert_exporter": "python",
   "pygments_lexer": "ipython3",
   "version": "3.9.12"
  }
 },
 "nbformat": 4,
 "nbformat_minor": 5
}

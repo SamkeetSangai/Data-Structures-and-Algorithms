{
 "cells": [
  {
   "cell_type": "markdown",
   "id": "f536c2e3",
   "metadata": {},
   "source": [
    "# Linear search"
   ]
  },
  {
   "cell_type": "code",
   "execution_count": 7,
   "id": "46a6ce31",
   "metadata": {},
   "outputs": [],
   "source": [
    "def linearSearch(arr, x):\n",
    "    l = len(arr)\n",
    "    for i in range(l):\n",
    "        if arr[i] == x:\n",
    "            return i\n",
    "    return -1"
   ]
  },
  {
   "cell_type": "markdown",
   "id": "636f86d1",
   "metadata": {},
   "source": [
    "# Binary search\n",
    "\n",
    "You have been given a sorted(in ascending order) integer array/list(ARR) of size N and an element X. Write a function to search this element in the given input array/list using 'Binary Search'. Return the index of the element in the input array/list. In case the element is not present in the array/list, then return -1"
   ]
  },
  {
   "cell_type": "code",
   "execution_count": 8,
   "id": "445c0eb9",
   "metadata": {},
   "outputs": [],
   "source": [
    "def binarySearch(arr, x):\n",
    "    l = len(arr)\n",
    "    if l == 0:\n",
    "        return -1\n",
    "\n",
    "    start = 0\n",
    "    end = l - 1\n",
    "    middel = (start+end)//2\n",
    "\n",
    "    while not start > end:\n",
    "        if arr[middel] == x:\n",
    "            return  middel\n",
    "        elif arr[middel] > x:\n",
    "            end = middel - 1\n",
    "            middel = (start+end)//2\n",
    "        elif arr[middel] < x:\n",
    "            start = middel + 1\n",
    "            middel = (start+end)//2\n",
    "\n",
    "    return -1"
   ]
  },
  {
   "cell_type": "markdown",
   "id": "1d86c93b",
   "metadata": {},
   "source": [
    "# Selection sort\n",
    "\n",
    "Provided with a random integer array/list(ARR) of size N, you have been required to sort this array using 'Selection Sort'."
   ]
  },
  {
   "cell_type": "code",
   "execution_count": 9,
   "id": "13009de3",
   "metadata": {},
   "outputs": [],
   "source": [
    "def selectionSort(arr):\n",
    "    l = len(arr)\n",
    "    if l == 0:\n",
    "        return -1\n",
    "\n",
    "    for i in range(l):\n",
    "        assumedMin = i\n",
    "        actualMin = i\n",
    "        for j in range(i+1,l):\n",
    "            if arr[actualMin] > arr[j]:\n",
    "                actualMin = j\n",
    "        arr[assumedMin], arr[actualMin] = arr[actualMin], arr[assumedMin]"
   ]
  },
  {
   "cell_type": "markdown",
   "id": "9bd1882e",
   "metadata": {},
   "source": [
    "# Bubble sort\n",
    "\n",
    "Provided with a random integer array/list(ARR) of size N, you have been required to sort this array using 'Bubble Sort'."
   ]
  },
  {
   "cell_type": "code",
   "execution_count": 10,
   "id": "10fbb330",
   "metadata": {},
   "outputs": [],
   "source": [
    "def bubbleSort(arr):\n",
    "    l = len(arr)\n",
    "    for i in range(l-1):\n",
    "        for j in range(l-i-1):\n",
    "            if arr[j] > arr[j+1]:\n",
    "                arr[j+1], arr[j] = arr[j], arr[j+1]"
   ]
  },
  {
   "cell_type": "markdown",
   "id": "d70bdd6b",
   "metadata": {},
   "source": [
    "# Insertion sort"
   ]
  },
  {
   "cell_type": "code",
   "execution_count": 11,
   "id": "1fb40c06",
   "metadata": {},
   "outputs": [],
   "source": [
    "def insertionSort(arr):\n",
    "    l = len(arr)\n",
    "    for i in range(1,l):\n",
    "        key = arr[i]\n",
    "        j = i -1\n",
    "        while j >= 0 and key < arr[j]:\n",
    "            arr[j+1] = arr[j]\n",
    "            j-=1\n",
    "        arr[j+1] = key"
   ]
  },
  {
   "cell_type": "markdown",
   "id": "8de43121",
   "metadata": {},
   "source": [
    "# Merge two sorted lists\n",
    "\n",
    "You have been given two sorted arrays/lists(ARR1 and ARR2) of size N and M respectively, merge them into a third array/list such that the third array is also sorted."
   ]
  },
  {
   "cell_type": "code",
   "execution_count": 12,
   "id": "3cd10067",
   "metadata": {},
   "outputs": [],
   "source": [
    "def merge(arr1, n, arr2, m):\n",
    "    output = []\n",
    "    i,j = 0,0\n",
    "    while i < n and j < m:\n",
    "        if arr1[i] > arr2[j]:\n",
    "            output.append(arr2[j])\n",
    "            j+=1\n",
    "        else:\n",
    "            output.append(arr1[i])\n",
    "            i+=1\n",
    "\n",
    "    while i < n:\n",
    "        output.append(arr1[i])\n",
    "        i+=1\n",
    "\n",
    "    while j < m:\n",
    "        output.append(arr2[j])\n",
    "        j+=1\n",
    "\n",
    "    return output"
   ]
  },
  {
   "cell_type": "markdown",
   "id": "8d1a0216",
   "metadata": {},
   "source": [
    "# Push zeros to end\n",
    "\n",
    "You have been given a random integer array/list(ARR) of size N. You have been required to push all the zeros that are present in the array/list to the end of it. Also, make sure to maintain the relative order of the non-zero elements."
   ]
  },
  {
   "cell_type": "code",
   "execution_count": 13,
   "id": "489c1bb9",
   "metadata": {},
   "outputs": [],
   "source": [
    "def pushZerosAtEnd(arr, n):\n",
    "    nonZero = 0\n",
    "    for i in range(n):\n",
    "        if arr[i] != 0:\n",
    "            arr[i], arr[nonZero] = arr[nonZero], arr[i]\n",
    "            nonZero+=1"
   ]
  },
  {
   "cell_type": "markdown",
   "id": "269da279",
   "metadata": {},
   "source": [
    "# Rotate list\n",
    "\n",
    "You have been given a random integer array/list(ARR) of size N. Write a function that rotates the given array/list by D elements(towards the left)."
   ]
  },
  {
   "cell_type": "code",
   "execution_count": 14,
   "id": "50f42452",
   "metadata": {},
   "outputs": [],
   "source": [
    "def reverseList(arr, start, end):\n",
    "    while start < end:\n",
    "        arr[start],arr[end] = arr[end],arr[start]\n",
    "        start+=1\n",
    "        end-=1\n",
    "\n",
    "def rotate(arr, n, d):\n",
    "    if n == 0:\n",
    "        return\n",
    "\n",
    "    if d >= n:\n",
    "        d = d%n\n",
    "\n",
    "    reverseList(arr, 0, n-1)\n",
    "    reverseList(arr, 0, n-d-1)\n",
    "    reverseList(arr, n-d, n-1)"
   ]
  },
  {
   "cell_type": "markdown",
   "id": "4920a44c",
   "metadata": {},
   "source": [
    "# Second largest in list"
   ]
  },
  {
   "cell_type": "code",
   "execution_count": 15,
   "id": "29f1ee78",
   "metadata": {},
   "outputs": [],
   "source": [
    "from sys import maxsize as MAX_VALUE\n",
    "\n",
    "def secondLargestElement(arr, n):\n",
    "    if n == 0:\n",
    "        return -MAX_VALUE\n",
    "\n",
    "    largest = arr[0]\n",
    "    secondLargets = -MAX_VALUE\n",
    "    for i in range(n):\n",
    "        if arr[i] > largest:\n",
    "            secondLargets = largest\n",
    "            largest = arr[i]\n",
    "\n",
    "        elif arr[i] > secondLargets and arr[i] != largest:\n",
    "            secondLargets = arr[i]\n",
    "\n",
    "    return secondLargets"
   ]
  },
  {
   "cell_type": "markdown",
   "id": "19cf7817",
   "metadata": {},
   "source": [
    "# Check list rotation\n",
    "\n",
    "You have been given an integer array/list(ARR) of size N. It has been sorted(in increasing order) and then rotated by some number 'K' in the right hand direction.\n",
    "Your task is to write a function that returns the value of 'K', that means, the index from which the array/list has been rotated."
   ]
  },
  {
   "cell_type": "code",
   "execution_count": 16,
   "id": "c39c94b3",
   "metadata": {},
   "outputs": [],
   "source": [
    "def arrayRotateCheck(arr, n):\n",
    "    for i in range(n):\n",
    "        if i == n-1:\n",
    "            return 0\n",
    "        \n",
    "        elif arr[i] > arr[i+1]:\n",
    "            return i+1"
   ]
  },
  {
   "cell_type": "markdown",
   "id": "9dacfde1",
   "metadata": {},
   "source": [
    "# Sort 0 1 2\n",
    "\n",
    "You are given an integer array/list(ARR) of size N. It contains only 0s, 1s and 2s. Write a solution to sort this array/list in a 'single scan'.\n",
    "'Single Scan' refers to iterating over the array/list just once or to put it in other words, you will be visiting each element in the array/list just once."
   ]
  },
  {
   "cell_type": "code",
   "execution_count": 17,
   "id": "85e3d9f5",
   "metadata": {},
   "outputs": [],
   "source": [
    "def sort012(arr, n):\n",
    "    nextZero = 0\n",
    "    nextTwo = n-1\n",
    "    i = 0\n",
    "\n",
    "    while i <= nextTwo:\n",
    "        if arr[i] == 0:\n",
    "            arr[i], arr[nextZero] = arr[nextZero],arr[i]\n",
    "            nextZero+=1\n",
    "            i+=1\n",
    "        elif arr[i] == 2:\n",
    "            arr[i], arr[nextTwo] = arr[nextTwo],arr[i]\n",
    "            nextTwo-=1\n",
    "        else:\n",
    "            i+=1"
   ]
  },
  {
   "cell_type": "markdown",
   "id": "a3e1ba38",
   "metadata": {},
   "source": [
    "# Sum of two lists\n",
    "\n",
    "Two random integer arrays/lists have been given as ARR1 and ARR2 of size N and M respectively. Both the arrays/lists contain numbers from 0 to 9(i.e. single digit integer is present at every index). The idea here is to represent each array/list as an integer in itself of digits N and M.\n",
    "You need to find the sum of both the input arrays/list treating them as two integers and put the result in another array/list i.e. output array/list will also contain only single digit at every index."
   ]
  },
  {
   "cell_type": "code",
   "execution_count": 18,
   "id": "379782b9",
   "metadata": {},
   "outputs": [],
   "source": [
    "def sumOfTwoArrays(arr1, n, arr2, m, output):\n",
    "    k = max(n,m) # k is index of output array\n",
    "    i = n-1\n",
    "    j = m-1\n",
    "    carry = 0\n",
    "\n",
    "    while i >= 0 and j >= 0:\n",
    "        SUM = arr1[i] + arr2[j] + carry\n",
    "        output[k] = SUM%10\n",
    "        carry = SUM//10\n",
    "\n",
    "        i-=1\n",
    "        j-=1\n",
    "        k-=1\n",
    "\n",
    "    while i >= 0:\n",
    "        SUM = arr1[i] + carry\n",
    "        output[k] = SUM%10\n",
    "        carry = SUM//10\n",
    "\n",
    "        i-=1\n",
    "        k-=1\n",
    "\n",
    "    while j >= 0:\n",
    "        SUM = arr2[j] + carry\n",
    "        output[k] = SUM%10\n",
    "        carry = SUM//10\n",
    "\n",
    "        j-=1\n",
    "        k-=1\n",
    "\n",
    "    output[0] = carry"
   ]
  }
 ],
 "metadata": {
  "kernelspec": {
   "display_name": "Python 3 (ipykernel)",
   "language": "python",
   "name": "python3"
  },
  "language_info": {
   "codemirror_mode": {
    "name": "ipython",
    "version": 3
   },
   "file_extension": ".py",
   "mimetype": "text/x-python",
   "name": "python",
   "nbconvert_exporter": "python",
   "pygments_lexer": "ipython3",
   "version": "3.9.12"
  }
 },
 "nbformat": 4,
 "nbformat_minor": 5
}

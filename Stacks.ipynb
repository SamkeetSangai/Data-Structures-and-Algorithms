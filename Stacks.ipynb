{
 "cells": [
  {
   "cell_type": "markdown",
   "id": "cc6e4381",
   "metadata": {},
   "source": [
    "# Stack Class using list"
   ]
  },
  {
   "cell_type": "code",
   "execution_count": 2,
   "id": "e2a816c2",
   "metadata": {},
   "outputs": [],
   "source": [
    "class Stack:\n",
    "    def __init__(self):\n",
    "        self.__data = []\n",
    "        \n",
    "    def push(self,item):\n",
    "        self.__data.append(item)\n",
    "        \n",
    "    def pop(self):\n",
    "        if self.isEmpty():\n",
    "            print(\"Stack is Empty\")\n",
    "            return\n",
    "        return self.__data.pop()\n",
    "    \n",
    "    def top(self):\n",
    "        if self.isEmpty():\n",
    "            print(\"Stack is Empty\")\n",
    "            return\n",
    "        return self.__data[len(self.__data)-1]\n",
    "        \n",
    "    def size(self):\n",
    "        return len(self.__data)\n",
    "        \n",
    "    def isEmpty(self):\n",
    "        return self.size() == 0"
   ]
  },
  {
   "cell_type": "markdown",
   "id": "0185f5a1",
   "metadata": {},
   "source": [
    "# Stack Class using Linked List"
   ]
  },
  {
   "cell_type": "code",
   "execution_count": 3,
   "id": "52347827",
   "metadata": {},
   "outputs": [],
   "source": [
    "class Node:\n",
    "    def __init__(self, data):\n",
    "        self.data = data\n",
    "        self.next = None\n",
    "\n",
    "\n",
    "class Stack:\n",
    "    def __init__(self):\n",
    "        self.__head = None\n",
    "        self.__size = 0\n",
    "\n",
    "    def getSize(self):\n",
    "        return self.__size\n",
    "\n",
    "    def isEmpty(self):\n",
    "        return self.__size == 0\n",
    "\n",
    "    def push(self, data):\n",
    "        if self.isEmpty():\n",
    "            self.__head = Node(data)\n",
    "        else:\n",
    "            newNode = Node(data)\n",
    "            newNode.next = self.__head\n",
    "            self.__head = newNode\n",
    "        \n",
    "        self.__size+=1\n",
    "\n",
    "    def pop(self):\n",
    "        if self.isEmpty():\n",
    "            return -1\n",
    "\n",
    "        dataNode = self.__head\n",
    "        self.__head = self.__head.next\n",
    "        self.__size-=1\n",
    "        return dataNode.data\n",
    "\n",
    "    def top(self):\n",
    "        if self.isEmpty():\n",
    "            return -1\n",
    "\n",
    "        return self.__head.data"
   ]
  },
  {
   "cell_type": "markdown",
   "id": "07958e2e",
   "metadata": {},
   "source": [
    "# Balanced paranthesis"
   ]
  },
  {
   "cell_type": "code",
   "execution_count": 4,
   "id": "43d34f06",
   "metadata": {},
   "outputs": [],
   "source": [
    "import queue\n",
    "\n",
    "def isBalanced(expression):\n",
    "    if expression.startswith((')','}',']')) or expression.endswith(('(','{','[')):\n",
    "        return False\n",
    "\n",
    "    q = queue.LifoQueue()\n",
    "    for i in range(len(expression)):\n",
    "        if i in ['(','{','[']:\n",
    "            q.put(i)\n",
    "        elif i == ')':\n",
    "            if q.get() != '(':\n",
    "                return False\n",
    "        elif i == '}':\n",
    "            if q.get() != '{':\n",
    "                return False\n",
    "        elif i == ']':\n",
    "            if q.get() != '[(]':\n",
    "                return False\n",
    "\n",
    "    return q.empty()"
   ]
  },
  {
   "cell_type": "markdown",
   "id": "1842612f",
   "metadata": {},
   "source": [
    "# Reverse Stack"
   ]
  },
  {
   "cell_type": "code",
   "execution_count": 5,
   "id": "9eb22729",
   "metadata": {},
   "outputs": [],
   "source": [
    "def reverseStack(s1, s2):\n",
    "    if len(s1) <= 1 :\n",
    "        return\n",
    "    \n",
    "    while len(s1) != 1 :\n",
    "        s2.append(s1.pop())\n",
    "    \n",
    "    lastElement = s1.pop()\n",
    "    \n",
    "    while len(s2) != 0 :\n",
    "        s1.append(s2.pop())\n",
    "    \n",
    "    reverseStack(s1, s2)\n",
    "    s1.append(lastElement)"
   ]
  },
  {
   "cell_type": "markdown",
   "id": "b519f554",
   "metadata": {},
   "source": [
    "# Check redundant brackets"
   ]
  },
  {
   "cell_type": "code",
   "execution_count": 6,
   "id": "cae02079",
   "metadata": {},
   "outputs": [],
   "source": [
    "def checkRedundantBrackets(expression):\n",
    "    stack = []\n",
    "    for char in expression:\n",
    "        if char != ')':\n",
    "            stack.append(char)\n",
    "        else:\n",
    "            count = 0\n",
    "            for i in range(len(stack)-1,-1,-1):\n",
    "                if stack[i] == '(':\n",
    "                    stack.pop()\n",
    "                    break\n",
    "                else:\n",
    "                    count+=1\n",
    "                    stack.pop()\n",
    "            if count <= 1:\n",
    "                return True\n",
    "\n",
    "    return False"
   ]
  },
  {
   "cell_type": "markdown",
   "id": "8851679c",
   "metadata": {},
   "source": [
    "# Stock span\n",
    "\n",
    "Afzal has been working with an organization called 'Money Traders' for the past few years. The organization is into the money trading business. His manager assigned him a task. For a given array/list of stock's prices for N days, find the stock's span for each day.\n",
    "The span of the stock's price today is defined as the maximum number of consecutive days(starting from today and going backwards) for which the price of the stock was less than today's price.\n",
    "For example, if the price of a stock over a period of 7 days are [100, 80, 60, 70, 60, 75, 85], then the stock spans will be [1, 1, 1, 2, 1, 4, 6]."
   ]
  },
  {
   "cell_type": "code",
   "execution_count": 7,
   "id": "94a42326",
   "metadata": {},
   "outputs": [],
   "source": [
    "def stockSpan(price,n):\n",
    "    stack = [0]\n",
    "    output = [0 for i in range(len(price))]\n",
    "    output[0] = 1\n",
    "    for i in range(1, n):\n",
    "        while (len(stack) > 0 and price[stack[-1]] < price[i]):\n",
    "            stack.pop()\n",
    "\n",
    "        output[i] = i + 1 if len(stack) == 0 else i - stack[-1]\n",
    "        stack.append(i) \n",
    "\n",
    "    return output"
   ]
  },
  {
   "cell_type": "markdown",
   "id": "9bc7692d",
   "metadata": {},
   "source": [
    "# Minimum bracket reversal"
   ]
  },
  {
   "cell_type": "code",
   "execution_count": 8,
   "id": "10292473",
   "metadata": {},
   "outputs": [],
   "source": [
    "def countBracketReversals(inputString):\n",
    "    if len(inputString)%2 != 0:\n",
    "        return -1\n",
    "\n",
    "    stack = []\n",
    "    for b in inputString:\n",
    "        if b == '{':\n",
    "            stack.append(b)\n",
    "        elif b == '}' and len(stack) != 0 and stack[-1] == '{':\n",
    "            stack.pop()\n",
    "        else:\n",
    "            stack.append(b)\n",
    "            \n",
    "    totalReversal = 0\n",
    "    for i in range(0,len(stack),2):\n",
    "        t1 = stack[i]\n",
    "        t2 = stack[i+1]\n",
    "        if t1 == t2:\n",
    "            totalReversal+=1\n",
    "        else:\n",
    "            totalReversal+=2\n",
    "\n",
    "    return totalReversal"
   ]
  },
  {
   "cell_type": "markdown",
   "id": "9cd27736",
   "metadata": {},
   "source": [
    "# Stacks Class using Queue"
   ]
  },
  {
   "cell_type": "code",
   "execution_count": 9,
   "id": "0370d3b5",
   "metadata": {},
   "outputs": [],
   "source": [
    "import queue\n",
    "\n",
    "class Stack:\n",
    "    def __init__(self):\n",
    "        self.__q1 = queue.Queue()\n",
    "        self.__q2 = queue.Queue()\n",
    "\n",
    "    def getSize(self):\n",
    "        return self.__q1.qsize()\n",
    "\n",
    "    def isEmpty(self):\n",
    "        return self.getSize() == 0\n",
    "\n",
    "    def push(self, data):\n",
    "        self.__q1.put(data)\n",
    "\n",
    "    def pop(self):\n",
    "        if self.isEmpty():\n",
    "            return -1\n",
    "        while self.__q1.qsize() > 1:\n",
    "            self.__q2.put(self.__q1.get())\n",
    "\n",
    "        ans = self.__q1.get()\n",
    "\n",
    "        temp = self.__q1\n",
    "        self.__q1 = self.__q2\n",
    "        self.__q2 = temp\n",
    "\n",
    "        return ans\n",
    "\n",
    "    def top(self):\n",
    "        if self.isEmpty():\n",
    "            return -1\n",
    "        while self.__q1.qsize() > 1:\n",
    "            self.__q2.put(self.__q1.get())\n",
    "\n",
    "        ans = self.__q1.get()\n",
    "        self.__q2.put(ans)\n",
    "\n",
    "        temp = self.__q1\n",
    "        self.__q1 = self.__q2\n",
    "        self.__q2 = temp\n",
    "\n",
    "        return ans"
   ]
  }
 ],
 "metadata": {
  "kernelspec": {
   "display_name": "Python 3 (ipykernel)",
   "language": "python",
   "name": "python3"
  },
  "language_info": {
   "codemirror_mode": {
    "name": "ipython",
    "version": 3
   },
   "file_extension": ".py",
   "mimetype": "text/x-python",
   "name": "python",
   "nbconvert_exporter": "python",
   "pygments_lexer": "ipython3",
   "version": "3.9.12"
  }
 },
 "nbformat": 4,
 "nbformat_minor": 5
}

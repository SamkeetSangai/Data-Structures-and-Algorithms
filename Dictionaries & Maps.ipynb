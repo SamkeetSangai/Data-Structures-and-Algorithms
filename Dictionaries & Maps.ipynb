{
 "cells": [
  {
   "cell_type": "markdown",
   "id": "c88e298a",
   "metadata": {},
   "source": [
    "# Print all words with frequency K"
   ]
  },
  {
   "cell_type": "code",
   "execution_count": 1,
   "id": "f423486b",
   "metadata": {},
   "outputs": [],
   "source": [
    "def printAllWordsWithFrequencyK(string,freq):\n",
    "    string_list = string.strip().split()\n",
    "    freq_dict = {}\n",
    "    for word in string_list:\n",
    "        freq_dict[word] = freq_dict.get(word,0)+1\n",
    "    for word in freq_dict:\n",
    "        if freq_dict[word] == freq:\n",
    "            print(word)\n",
    "    return"
   ]
  },
  {
   "cell_type": "markdown",
   "id": "f3895a0c",
   "metadata": {},
   "source": [
    "# Maximum frequency"
   ]
  },
  {
   "cell_type": "code",
   "execution_count": 2,
   "id": "34a13ef6",
   "metadata": {},
   "outputs": [],
   "source": [
    "import sys\n",
    "\n",
    "def maxfreq(arr):\n",
    "    freq = {}\n",
    "    for i in arr:\n",
    "        freq[i] = freq.get(i,0)+1\n",
    "    maxFreqNumber, maxFreqValue = -sys.maxsize, -sys.maxsize\n",
    "    for n in arr:\n",
    "        if freq[n] > maxFreqValue:\n",
    "            maxFreqNumber = n\n",
    "            maxFreqValue = freq[n]\n",
    "    return maxFreqNumber"
   ]
  },
  {
   "cell_type": "markdown",
   "id": "f0612db0",
   "metadata": {},
   "source": [
    "# Pair sum to 0"
   ]
  },
  {
   "cell_type": "code",
   "execution_count": 3,
   "id": "f140bbd6",
   "metadata": {},
   "outputs": [],
   "source": [
    "from math import factorial\n",
    "\n",
    "def nc2(n):\n",
    "    ans=0\n",
    "    if n!=1:\n",
    "        ans = factorial(n) / (factorial(2)*factorial(n-2))\n",
    "    return int(ans)\n",
    "\n",
    "def freqMap(l):\n",
    "    map={}\n",
    "    for num in l:\n",
    "        map[num] = map.get(num,0)+1\n",
    "    return map\n",
    "\n",
    "def pairSum0(l,n):\n",
    "    m=freqMap(l)\n",
    "    count = 0\n",
    "    for num in m:\n",
    "        if num>0 and -num in m:\n",
    "            count = count + (m[num]*m[-num])\n",
    "                \n",
    "        if num==0:\n",
    "            count = count + nc2(m[num])\n",
    "    return count"
   ]
  },
  {
   "cell_type": "markdown",
   "id": "58a22795",
   "metadata": {},
   "source": [
    "# HashMap Class "
   ]
  },
  {
   "cell_type": "code",
   "execution_count": 4,
   "id": "7df02f69",
   "metadata": {},
   "outputs": [],
   "source": [
    "class MapNode:\n",
    "    def __init__(self,key,value):\n",
    "        self.key=key\n",
    "        self.value=value\n",
    "        self.next=None\n",
    "\n",
    "class Map:\n",
    "    def __init__(self):\n",
    "        self.bucketSize=5\n",
    "        self.buckets=[None for i in range(self.bucketSize)]\n",
    "        self.count=0\n",
    "        \n",
    "    def size(self):\n",
    "        return self.count\n",
    "    \n",
    "    def getBucketIndex(self,hc):\n",
    "        return (abs(hc)%(self.bucketSize))\n",
    "    \n",
    "    def getValue(self,key):\n",
    "        hc=hash(key)\n",
    "        index=self.getBucketIndex(hc)\n",
    "        head=self.buckets[index]\n",
    "        while head is not None:\n",
    "            if head.key==key:\n",
    "                return head.value\n",
    "            head=head.next\n",
    "        return None\n",
    "    \n",
    "    def remove(self,key):\n",
    "        hc=hash(key)\n",
    "        index=self.getBucketIndex(hc)\n",
    "        head=self.buckets[index]\n",
    "        prev=None\n",
    "        while head is not None:\n",
    "            if head.key==key:\n",
    "                if prev is None:\n",
    "                    self.buckets[index]=head.next\n",
    "                else:\n",
    "                    prev.next=head.next\n",
    "                return head.value\n",
    "            prev=head\n",
    "            head=head.next\n",
    "        return none\n",
    "    \n",
    "    def rehash(self):\n",
    "        temp=self.buckets\n",
    "        self.buckets=[None for i in range(2*self.bucketSize)]\n",
    "        self.bucketSize=2*self.bucketSize\n",
    "        self.count=0\n",
    "        for head in temp:\n",
    "            while head is not None:\n",
    "                self.insert(head.key,head.value)\n",
    "                head=head.next\n",
    "                \n",
    "    def loadFactor(self):\n",
    "        return self.count/self.bucketSize\n",
    "        \n",
    "    def insert(self,key,value):\n",
    "        hc=hash(key)\n",
    "        index=self.getBucketIndex(hc)\n",
    "        head=self.buckets[index]\n",
    "        while head is not None:\n",
    "            if head.key==key:\n",
    "                head.value=value\n",
    "                return\n",
    "            head=head.next\n",
    "        newNode=MapNode(key,value)\n",
    "        newNode.next=head\n",
    "        self.buckets[index]=newNode\n",
    "        self.count+=1\n",
    "        loadFactor=self.count/self.bucketSize\n",
    "        if loadFactor>=0.7:\n",
    "            self.rehash()"
   ]
  },
  {
   "cell_type": "markdown",
   "id": "89b5d452",
   "metadata": {},
   "source": [
    "# Extract unique characters"
   ]
  },
  {
   "cell_type": "code",
   "execution_count": 5,
   "id": "ad1da15c",
   "metadata": {},
   "outputs": [],
   "source": [
    "def uniqueChar(s):\n",
    "    alreadyEncountered = set()\n",
    "    unique = ''\n",
    "    for c in s:\n",
    "        if c not in alreadyEncountered:\n",
    "            unique+=c\n",
    "            alreadyEncountered.add(c)\n",
    "    return unique"
   ]
  },
  {
   "cell_type": "markdown",
   "id": "b1add1c8",
   "metadata": {},
   "source": [
    "# Longest consecutive sequence"
   ]
  },
  {
   "cell_type": "code",
   "execution_count": 6,
   "id": "70439766",
   "metadata": {},
   "outputs": [],
   "source": [
    "import sys\n",
    "\n",
    "def longestConsecutiveSubsequence(arr,n):\n",
    "    sequenceDict = dict.fromkeys(arr,True)\n",
    "    \n",
    "    maxCount = -sys.maxsize\n",
    "    maxStart = -sys.maxsize\n",
    "   \n",
    "    for num in arr:\n",
    "        start = num\n",
    "        forward = num+1\n",
    "        count = 1\n",
    "\n",
    "        while True:\n",
    "            if forward in sequenceDict:\n",
    "                count += 1\n",
    "                sequenceDict[forward] = False\n",
    "                forward = forward + 1              \n",
    "            else:\n",
    "                break\n",
    "            \n",
    "        backward = num - 1                           \n",
    "        while True:\n",
    "            if backward in sequenceDict:            \n",
    "                start = backward\n",
    "                sequenceDict[backward] = False\n",
    "                backward = backward - 1\n",
    "                count += 1                \n",
    "            else:\n",
    "                break\n",
    "              \n",
    "        if maxCount < count:\n",
    "            maxCount = count\n",
    "            maxStart = start\n",
    "            \n",
    "        elif maxCount == count:\n",
    "            if arr.index(maxStart) > arr.index(start):               \n",
    "                maxStart = start      \n",
    "            \n",
    "    return maxStart, maxStart+maxCount-1"
   ]
  },
  {
   "cell_type": "markdown",
   "id": "0a3970d8",
   "metadata": {},
   "source": [
    "# Pairs with difference K"
   ]
  },
  {
   "cell_type": "code",
   "execution_count": 7,
   "id": "84242254",
   "metadata": {},
   "outputs": [],
   "source": [
    "def printPairDiffK(l, k):\n",
    "    pairCount = 0\n",
    "    numDict = {}\n",
    "    for num in l:\n",
    "        if num + k in numDict:\n",
    "            pairCount+=numDict[num + k]\n",
    "        if k != 0 and num - k in numDict:\n",
    "            pairCount+=numDict[num - k]\n",
    "        numDict[num] = numDict.get(num,0)+1\n",
    "        \n",
    "    return pairCount"
   ]
  },
  {
   "cell_type": "markdown",
   "id": "a6c6a584",
   "metadata": {},
   "source": [
    "# Longest subset zero sum"
   ]
  },
  {
   "cell_type": "code",
   "execution_count": 8,
   "id": "5e62bf4a",
   "metadata": {},
   "outputs": [],
   "source": [
    "import sys\n",
    "\n",
    "def subsetSum(l):\n",
    "    sumDict = {0:-1}\n",
    "    maxLength = -sys.maxsize\n",
    "    currentSum = 0\n",
    "    for i in range(len(l)):\n",
    "        currentSum+=l[i]\n",
    "        if currentSum in sumDict:\n",
    "            currentLength = i - sumDict[currentSum]\n",
    "            if currentLength > maxLength:\n",
    "                maxLength = currentLength\n",
    "        else:\n",
    "            sumDict[currentSum] = i\n",
    "        \n",
    "    return maxLength"
   ]
  }
 ],
 "metadata": {
  "kernelspec": {
   "display_name": "Python 3 (ipykernel)",
   "language": "python",
   "name": "python3"
  },
  "language_info": {
   "codemirror_mode": {
    "name": "ipython",
    "version": 3
   },
   "file_extension": ".py",
   "mimetype": "text/x-python",
   "name": "python",
   "nbconvert_exporter": "python",
   "pygments_lexer": "ipython3",
   "version": "3.9.12"
  }
 },
 "nbformat": 4,
 "nbformat_minor": 5
}

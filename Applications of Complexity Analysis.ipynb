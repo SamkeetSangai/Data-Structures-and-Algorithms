{
 "cells": [
  {
   "cell_type": "markdown",
   "id": "b33d3790",
   "metadata": {},
   "source": [
    "# Power of a number"
   ]
  },
  {
   "cell_type": "code",
   "execution_count": 36,
   "id": "c5affff3",
   "metadata": {},
   "outputs": [],
   "source": [
    "def power(x, n):\n",
    "    if n == 0:\n",
    "        return 1\n",
    "    small_output = power(x, n//2)\n",
    "    if n%2 == 0:\n",
    "        return small_output*small_output\n",
    "    else:\n",
    "        return small_output*small_output*x"
   ]
  },
  {
   "cell_type": "markdown",
   "id": "f48afeda",
   "metadata": {},
   "source": [
    "# Array intersection"
   ]
  },
  {
   "cell_type": "code",
   "execution_count": 37,
   "id": "43d7e1fe",
   "metadata": {},
   "outputs": [],
   "source": [
    "def intersection(arr1, arr2, n, m):\n",
    "    arr1.sort()\n",
    "    arr2.sort()\n",
    "    \n",
    "    i = 0\n",
    "    j = 0\n",
    "    \n",
    "    while i < len(arr1) and j < len(arr2):\n",
    "        \n",
    "        if arr1[i] < arr2[j]:\n",
    "            i+=1\n",
    "\n",
    "        elif arr1[i] > arr2[j]:\n",
    "            j+=1\n",
    "\n",
    "        elif arr1[i] == arr2[j]:\n",
    "            print(arr1[i],end=\" \")\n",
    "            i+=1\n",
    "            j+=1"
   ]
  },
  {
   "cell_type": "markdown",
   "id": "615fc55d",
   "metadata": {},
   "source": [
    "# Array equilibrium index"
   ]
  },
  {
   "cell_type": "code",
   "execution_count": 38,
   "id": "d397e2de",
   "metadata": {},
   "outputs": [],
   "source": [
    "def arrayEquilibriumIndex(arr, n):\n",
    "    if len(arr) == 0:\n",
    "        return -1\n",
    "\n",
    "    totalSum = sum(arr)\n",
    "    leftSum = 0\n",
    "    rightSum = totalSum  - arr[0]\n",
    "\n",
    "    if leftSum == rightSum:\n",
    "        return 0\n",
    "\n",
    "    for index in range(1,len(arr)):\n",
    "        leftSum+=arr[index-1]\n",
    "        rightSum-=arr[index]\n",
    "\n",
    "        if leftSum == rightSum:\n",
    "            return index\n",
    "        \n",
    "    return -1"
   ]
  },
  {
   "cell_type": "markdown",
   "id": "1ba58434",
   "metadata": {},
   "source": [
    "# Find the total number of unique elements\n",
    "\n",
    "You have been given an integer array/list(ARR) of size N. Where N is equal to [2M + 1].\n",
    "Now, in the given array/list, 'M' numbers are present twice and one number is present only once.\n",
    "You need to find and return that number which is unique in the array/list.\n",
    "Note: Unique element is always present in the array/list according to the given condition."
   ]
  },
  {
   "cell_type": "code",
   "execution_count": 39,
   "id": "9895a2db",
   "metadata": {},
   "outputs": [],
   "source": [
    "def findUnique(arr, n):\n",
    "    XOR = 0\n",
    "    for i in range(n):\n",
    "        XOR ^= arr[i]\n",
    "\n",
    "    return XOR"
   ]
  },
  {
   "cell_type": "markdown",
   "id": "e55d27da",
   "metadata": {},
   "source": [
    "# Duplicate in array\n",
    "\n",
    "You have been given an integer array/list(ARR) of size N which contains numbers from 0 to (N - 2). Each number is present at least once. That is, if N = 5, the array/list constitutes values ranging from 0 to 3, and among these, there is a single integer value that is present twice. You need to find and return that duplicate number present in the array.\n",
    "Note: Duplicate number is always present in the given array/list."
   ]
  },
  {
   "cell_type": "code",
   "execution_count": 40,
   "id": "8457c9be",
   "metadata": {},
   "outputs": [],
   "source": [
    "def findDuplicate(arr, N):\n",
    "    n = N-2\n",
    "    sum0fNNaturalNumbers = n*(n+1)/2\n",
    "    uniqueNumber = sum(arr) - sum0fNNaturalNumbers\n",
    "    return int(uniqueNumber)"
   ]
  },
  {
   "cell_type": "markdown",
   "id": "6346ef36",
   "metadata": {},
   "source": [
    "# Pair sum in array\n",
    "\n",
    "You have been given an integer array/list(ARR) and a number 'num'. Find and return the total number of pairs in the array/list which sum to 'num'.\n",
    "Note: Given array/list can contain duplicate elements. "
   ]
  },
  {
   "cell_type": "code",
   "execution_count": 41,
   "id": "ac076e34",
   "metadata": {},
   "outputs": [],
   "source": [
    "def pairSum(arr, n, num):\n",
    "\n",
    "    arr.sort()\n",
    "    startIndex = 0\n",
    "    endIndex = (n-1)\n",
    "    numPair = 0\n",
    "\n",
    "    while startIndex < endIndex:\n",
    "        if arr[startIndex] + arr[endIndex] < num:\n",
    "            startIndex += 1\n",
    "\n",
    "        elif arr[startIndex] + arr[endIndex] > num:\n",
    "            endIndex -= 1\n",
    "\n",
    "        else:\n",
    "            elementAtStart = arr[startIndex]\n",
    "            elementAtEnd = arr[endIndex]\n",
    "\n",
    "            if elementAtStart == elementAtEnd:\n",
    "                totalElementsFromStartToEnd = (endIndex - startIndex) + 1\n",
    "                numPair += (totalElementsFromStartToEnd *\n",
    "                            (totalElementsFromStartToEnd-1)//2)\n",
    "                return numPair\n",
    "\n",
    "            tempStartIndex = startIndex + 1\n",
    "            tempEndIndex = endIndex - 1\n",
    "\n",
    "            while (tempStartIndex <= tempEndIndex) and (arr[tempStartIndex] == elementAtStart):\n",
    "                tempStartIndex += 1\n",
    "\n",
    "            while (tempEndIndex >= tempStartIndex) and (arr[tempEndIndex] == elementAtEnd):\n",
    "                tempEndIndex -= 1\n",
    "\n",
    "            totalElementsFromStart = (tempStartIndex - startIndex)\n",
    "            totalElementsFromEnd = (endIndex - tempEndIndex)\n",
    "            numPair += (totalElementsFromStart * totalElementsFromEnd)\n",
    "            startIndex = tempStartIndex\n",
    "            endIndex = tempEndIndex\n",
    "\n",
    "    return numPair"
   ]
  },
  {
   "cell_type": "markdown",
   "id": "50a80b11",
   "metadata": {},
   "source": [
    "# Triplet sum in array\n",
    "\n",
    "You have been given a random integer array/list(ARR) and a number X. Find and return the triplet(s) in the array/list which sum to X.\n",
    "Note: Given array/list can contain duplicate elements."
   ]
  },
  {
   "cell_type": "code",
   "execution_count": 42,
   "id": "0b25b8df",
   "metadata": {},
   "outputs": [],
   "source": [
    "def tripletSum(arr, n, num) :\n",
    "    arr.sort()\n",
    "    numTriplets = 0;\n",
    "\n",
    "    for i in range(n) :\n",
    "        pairSumFor = num - arr[i]\n",
    "        numPairs = pairSum(arr, (i + 1), (n - 1), pairSumFor)\n",
    "        numTriplets += numPairs\n",
    "\n",
    "    return numTriplets\n",
    "\n",
    "\n",
    "def pairSum(arr, startIndex, endIndex, num) :\n",
    "    numPair = 0\n",
    "\n",
    "    while startIndex < endIndex :\n",
    "        if arr[startIndex] + arr[endIndex] < num :\n",
    "            startIndex += 1\n",
    "\n",
    "        elif arr[startIndex] + arr[endIndex] > num :\n",
    "            endIndex -= 1\n",
    "\n",
    "        else :\n",
    "            elementAtStart = arr[startIndex]\n",
    "            elementAtEnd = arr[endIndex]\n",
    "\n",
    "            if elementAtStart == elementAtEnd :\n",
    "                totalElementsFromStartToEnd = (endIndex - startIndex) + 1\n",
    "                numPair += (totalElementsFromStartToEnd * (totalElementsFromStartToEnd - 1) // 2)\n",
    "                return numPair\n",
    "\n",
    "            tempStartIndex = startIndex + 1\n",
    "            tempEndIndex = endIndex - 1\n",
    "\n",
    "            while (tempStartIndex <= tempEndIndex) and (arr[tempStartIndex] == elementAtStart) :\n",
    "                tempStartIndex += 1\n",
    "\n",
    "            while (tempEndIndex >= tempStartIndex) and (arr[tempEndIndex] == elementAtEnd) :\n",
    "                tempEndIndex -= 1\n",
    "\n",
    "            totalElementsFromStart = (tempStartIndex - startIndex)\n",
    "            totalElementsFromEnd = (endIndex - tempEndIndex)\n",
    "            numPair += (totalElementsFromStart * totalElementsFromEnd)\n",
    "\n",
    "            startIndex = tempStartIndex\n",
    "            endIndex = tempEndIndex\n",
    "\n",
    "    return numPair"
   ]
  },
  {
   "cell_type": "markdown",
   "id": "53d6a147",
   "metadata": {},
   "source": [
    "# Rotate array\n",
    "\n",
    "You have been given a random integer array/list(ARR) of size N. Write a function that rotates the given array/list by D elements(towards the left).\n",
    "Note: Change in the input array/list itself. You don't need to return or print the elements."
   ]
  },
  {
   "cell_type": "code",
   "execution_count": 44,
   "id": "2633b28b",
   "metadata": {},
   "outputs": [],
   "source": [
    "def reverse(arr,start,end):\n",
    "    while start < end:\n",
    "        arr[start], arr[end] = arr[end], arr[start]\n",
    "        start+=1\n",
    "        end-=1\n",
    "\n",
    "def rotate(arr, n, d):\n",
    "    if n == 0:\n",
    "        return\n",
    "\n",
    "    reverse(arr,0,n-1)\n",
    "    reverse(arr,0,n-d-1)\n",
    "    reverse(arr,n-d,n-1)"
   ]
  }
 ],
 "metadata": {
  "kernelspec": {
   "display_name": "Python 3 (ipykernel)",
   "language": "python",
   "name": "python3"
  },
  "language_info": {
   "codemirror_mode": {
    "name": "ipython",
    "version": 3
   },
   "file_extension": ".py",
   "mimetype": "text/x-python",
   "name": "python",
   "nbconvert_exporter": "python",
   "pygments_lexer": "ipython3",
   "version": "3.9.12"
  }
 },
 "nbformat": 4,
 "nbformat_minor": 5
}
